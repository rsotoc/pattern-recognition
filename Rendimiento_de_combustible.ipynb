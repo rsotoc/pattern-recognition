{
 "cells": [
  {
   "cell_type": "code",
   "execution_count": 11,
   "metadata": {
    "collapsed": false
   },
   "outputs": [
    {
     "name": "stdout",
     "output_type": "stream",
     "text": [
      "   18  8  307  130  3504    12  70  1 chevrolet chevelle malibu\n",
      "0  15  8  350  165  3693  11.5  70  1         buick skylark 320\n",
      "1  18  8  318  150  3436  11.0  70  1        plymouth satellite\n",
      "2  16  8  304  150  3433  12.0  70  1             amc rebel sst\n"
     ]
    }
   ],
   "source": [
    "\"\"\"\n",
    "Ejemplo 1: Rendimiento de combustible\n",
    "\"\"\"\n",
    "\n",
    "import pandas as pd\n",
    "import os\n",
    "df = pd.read_csv(\"autompg.csv\")\n",
    "\n",
    "print(df.head(3))"
   ]
  },
  {
   "cell_type": "code",
   "execution_count": 12,
   "metadata": {
    "collapsed": false
   },
   "outputs": [
    {
     "name": "stdout",
     "output_type": "stream",
     "text": [
      "   mpg  cylinders  displacement horsepower  weight  aceleration  model year  \\\n",
      "0   18          8           307        130    3504         12.0          70   \n",
      "1   15          8           350        165    3693         11.5          70   \n",
      "2   18          8           318        150    3436         11.0          70   \n",
      "\n",
      "   origin                    carname  \n",
      "0       1  chevrolet chevelle malibu  \n",
      "1       1          buick skylark 320  \n",
      "2       1         plymouth satellite  \n"
     ]
    }
   ],
   "source": [
    "df = pd.read_csv(\"autompg.csv\", \n",
    "                 names = ['mpg', 'cylinders', 'displacement', 'horsepower', 'weight', 'aceleration', 'model year', 'origin', 'carname'])\n",
    "print(df.head(3))"
   ]
  },
  {
   "cell_type": "code",
   "execution_count": 13,
   "metadata": {
    "collapsed": false
   },
   "outputs": [
    {
     "name": "stdout",
     "output_type": "stream",
     "text": [
      "<class 'pandas.core.frame.DataFrame'>\n",
      "Int64Index: 398 entries, 0 to 397\n",
      "Data columns (total 9 columns):\n",
      "mpg             398 non-null float64\n",
      "cylinders       398 non-null int64\n",
      "displacement    398 non-null float64\n",
      "horsepower      398 non-null object\n",
      "weight          398 non-null int64\n",
      "aceleration     398 non-null float64\n",
      "model year      398 non-null int64\n",
      "origin          398 non-null int64\n",
      "carname         398 non-null object\n",
      "dtypes: float64(3), int64(4), object(2)\n",
      "memory usage: 28.0+ KB\n",
      "None\n",
      "              mpg   cylinders  displacement       weight  aceleration  \\\n",
      "count  398.000000  398.000000    398.000000   398.000000   398.000000   \n",
      "mean    23.514573    5.454774    193.425879  2970.424623    15.568090   \n",
      "std      7.815984    1.701004    104.269838   846.841774     2.757689   \n",
      "min      9.000000    3.000000     68.000000  1613.000000     8.000000   \n",
      "25%     17.500000    4.000000    104.250000  2223.750000    13.825000   \n",
      "50%     23.000000    4.000000    148.500000  2803.500000    15.500000   \n",
      "75%     29.000000    8.000000    262.000000  3608.000000    17.175000   \n",
      "max     46.600000    8.000000    455.000000  5140.000000    24.800000   \n",
      "\n",
      "       model year      origin  \n",
      "count  398.000000  398.000000  \n",
      "mean    76.010050    1.572864  \n",
      "std      3.697627    0.802055  \n",
      "min     70.000000    1.000000  \n",
      "25%     73.000000    1.000000  \n",
      "50%     76.000000    1.000000  \n",
      "75%     79.000000    2.000000  \n",
      "max     82.000000    3.000000  \n"
     ]
    }
   ],
   "source": [
    "print( df.info())\n",
    "print( df.describe() )\n"
   ]
  },
  {
   "cell_type": "code",
   "execution_count": null,
   "metadata": {
    "collapsed": true
   },
   "outputs": [],
   "source": [
    "# En el analísis que hace python de los datos considera a la variable \"horsepower\" \n",
    "# como un objeto y no como un entero debido a que hacen falta registros de esta."
   ]
  }
 ],
 "metadata": {
  "kernelspec": {
   "display_name": "Python 3",
   "language": "python",
   "name": "python3"
  },
  "language_info": {
   "codemirror_mode": {
    "name": "ipython",
    "version": 3
   },
   "file_extension": ".py",
   "mimetype": "text/x-python",
   "name": "python",
   "nbconvert_exporter": "python",
   "pygments_lexer": "ipython3",
   "version": "3.5.1"
  }
 },
 "nbformat": 4,
 "nbformat_minor": 0
}
