{
 "cells": [
  {
   "cell_type": "markdown",
   "metadata": {},
   "source": [
    "# Reconocimiento de patrones: Introducción\n",
    "### Ramón Soto C. [(rsotoc@moviquest.com)](mailto:rsotoc@moviquest.com/)\n",
    "![ ](images/blank.png)\n",
    "![agents](images/binary_data_under_a_magnifying.jpg)\n",
    "[ver en nbviewer](http://nbviewer.ipython.org/github/rsotoc/pattern-recognition/blob/master/Intro%201.%20Bases%20cognitivas.ipynb)"
   ]
  },
  {
   "cell_type": "markdown",
   "metadata": {},
   "source": [
    "![ ](images/blank.png)\n",
    "## Definición. Bases cognitivas\n",
    "\n",
    "Los modelos científicos-matemáticos, utilizados por los seres humanos para dominar su entorno, son representaciones parciales de la realidad, limitadas por las capacidades del ser humano para sensar su entorno.\n",
    "\n",
    "![](images/protagoras.jpg)\n",
    "![ ](images/blank.png)\n",
    "Un *patrón* puede definirse como  una regularidad en un sistema. La capacidad de identificar estas regularidades es lo que nos permite reconocer objetos en ambientes complejos. Esta capacidad es lo que podemos llamar **Reconocimiento de patrones** \n",
    "\n",
    "![](images/patterns01.jpeg)\n",
    "![ ](images/blank.png)\n",
    "Si bien las técnicas de reconocimiento de patrones suelen basarse en la búsqueda de regularidades matemáticas (estadísticas, principalmente), el reconocimiento de patrones es una habilidad natural del ser humano. Existen diferentes tipos de regularidades que pueden ser detectadas de forma natural por los humanos, entre las que se pueden destacar las siguientes: \n",
    "* **Armonía**: La armonía puede definirse como un arreglo agradable de las partes de un sistema. En las experiencias visuales, la armonía es algo que sea agradable a la vista, como determinadas combiaciones de colores. De la misma manera, podemos hablar de armonias auditivas, olfativas, gustativas o táctiles. \n",
    "![](images/armonias.jpg)\n",
    "![ ](images/blank.png)\n",
    "* **Ritmo**: El ritmo es cualquier movimiento regular y recurrente, marcado por la sucesión regular de elementos débiles y fuertes, o bien de condiciones opuestas o diferentes. \n",
    "![](images/rythm.jpg)\n",
    "![ ](images/blank.png)\n",
    "En la definición del ritmo, el movimiento puede hacer referencia a una secuencia 'apreciadas' de estados: un escalon que 'sigue a otro', por ejemplo. \n",
    "![ ](images/blank.png)\n",
    "* **Flujo**: Un flujo es el movimiento de un fluido. En arte visual, el flujo es la ilusión de movimiento en un conjunto que se obtiene a través de la manipulación de colores y formas. \n",
    "![](images/flujo.jpg)\n",
    "![ ](images/blank.png)\n",
    "* **Simetría**: La simetría se define como la 'correspondencia exacta en la disposición regular de las partes o puntos de un cuerpo o figura con relación a un centro, un eje o un plano'. \n",
    "![](images/simetrias.jpg)\n",
    "![ ](images/blank.png)\n",
    "* **Proporcionalidad**: La proporcionalidad es una relación o razón constante entre magnitudes medibles. \n",
    "![](images/proporcion.jpg)\n",
    "![ ](images/blank.png)\n"
   ]
  },
  {
   "cell_type": "markdown",
   "metadata": {},
   "source": [
    "<hr style=\"border-width: 3px;\">\n",
    "\n",
    "### Tarea 1\n",
    "\n",
    "Describa un problema de reconocimiento de patrones de su interés y explique por qué un modelo tradicional sería inapropiado para resolverlo (utilice la celda siguiente, en esta libreta, para presentar su problema seleccionado).\n",
    "\n",
    "**Fecha de entrega**: Viernes 18 de agosto."
   ]
  },
  {
   "cell_type": "markdown",
   "metadata": {},
   "source": [
    "<hr style=\"border-width: 3px;\">\n",
    "\n",
    "### Problema: Reconocimiento y clasificacion de cartas de una bajara de poker\n",
    "#### Autor: Jaime Lopez\n",
    "\n",
    "..."
   ]
  }
 ],
 "metadata": {
  "celltoolbar": "Raw Cell Format",
  "kernelspec": {
   "display_name": "Python 3",
   "language": "python",
   "name": "python3"
  },
  "language_info": {
   "codemirror_mode": {
    "name": "ipython",
    "version": 3
   },
   "file_extension": ".py",
   "mimetype": "text/x-python",
   "name": "python",
   "nbconvert_exporter": "python",
   "pygments_lexer": "ipython3",
   "version": "3.6.0"
  }
 },
 "nbformat": 4,
 "nbformat_minor": 0
}
