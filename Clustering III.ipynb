{
 "cells": [
  {
   "cell_type": "markdown",
   "metadata": {},
   "source": [
    "# Reconocimiento de patrones: Identificación de grupos o Clustering\n",
    "### Ramón Soto C. [(rsotoc@moviquest.com)](mailto:rsotoc@moviquest.com/)\n",
    "![ ](images/blank.png)\n",
    "![agents](images/binary_data_under_a_magnifying.jpg)\n",
    "[ver en nbviewer](http://nbviewer.ipython.org/github/rsotoc/pattern-recognition/blob/master/Clustering%20III.ipynb)"
   ]
  },
  {
   "cell_type": "markdown",
   "metadata": {},
   "source": [
    "## Técnicas de clustering: *K-Means*\n",
    "\n",
    "La técnica de *k-medias* (o *k-means*) es una de las técnicas de clustering más simples y más utilizadas. Es una técnica de *aprendizaje no supervisado*: la técnica debe clasificar objetos desconocidos a un conjunto de clases de las que apenas se conocen algunos parámetros y no las características de cada clase. En el caso de *k*-medias, lo único que se conoce es el número de grupos.\n",
    "\n",
    "El objetivo del algoritmo de *k*-medias es particionar un conjunto de *n* datos ejemplo en *k* grupos, asociando objetos cercanos y distinguiendo objetos diferentes. El resultado al final del procedimiento es la generación de un \"*prototipo de clase*\".\n",
    "\n",
    "En la imagen a continuación, se presentan 30 datos (puntos azules) que han sido agrupados en 4 clusters. Las líneas rojas representan fronteras (posibles) entre clase y las estrellas rojas representan prototipos de clase.\n",
    "\n",
    "![ ](images/k-means0.png)\n",
    "\n",
    "La clase es una generalización del cluster; una descripción conceptual del grupo representado por el conjunto de datos. La delimitación de una clase, construida de forma inductiva (a partir de ejemplos), suele no ser precisa: está limitada a los datos de que disponemos para modelarla, como se ilustra en la imagen siguiente. \n",
    "\n",
    "![ ](images/cluster-class.png)\n",
    "\n",
    "En esta imagen, los datos (ficticios) conocidos nos han permitido generar un modelo de clase (area en azul). Sin embargo, la clase real es diferente, sólo que al crear la clase no conocíamos suficientes datos para modelarla fielmente (como los datos señalados como puntos rojos). Considérese, por ejemplo, el siguiente conjunto de bicicletas:\n",
    "\n",
    "![ ](images/bicycles.png)\n",
    "\n",
    "A partir de los datos disponibles podemos concluir, por ejemplo, que todas las bicicletas tienen un asiento y pedales... sin embargo, esta definción de la clase bicicleta no incluye los siguientes ejemplares:\n",
    "\n",
    "[![ ](images/bicycles-2.png)](https://www.youtube.com/watch?v=KewMZ8sM0Uo)\n",
    "\n",
    "\n",
    "### Algoritmo\n",
    "\n",
    "El algoritmo k-means sigue los siguientes pasos (dado un conjunto de datos):"
   ]
  },
  {
   "cell_type": "code",
   "execution_count": 1,
   "metadata": {
    "collapsed": false
   },
   "outputs": [],
   "source": [
    "# Inicializar el ambiente\n",
    "import numpy as np\n",
    "import pandas as pd\n",
    "import math\n",
    "import random\n",
    "import time\n",
    "import os\n",
    "import sys\n",
    "from scipy.spatial import distance\n",
    "np.set_printoptions(precision=2, suppress=True) # Cortar la impresión de decimales a 1\n",
    "\n",
    "os.chdir('Data sets')\n",
    "LARGER_DISTANCE = sys.maxsize\n",
    "TALK = True # TALK = True, imprime resultados parciales"
   ]
  },
  {
   "cell_type": "code",
   "execution_count": 2,
   "metadata": {
    "collapsed": false
   },
   "outputs": [],
   "source": [
    "# Leer los datos de archivo\n",
    "DATA_SET = pd.read_csv(\"datosProm.csv\", names = ['A', 'B']).values\n",
    "DATA_LEN = len(DATA_SET)\n",
    "\n",
    "# Definir una clase para expresar puntos y su asignación a un cluster\n",
    "class DataPoint:\n",
    "    def __init__(self, p):\n",
    "        self.value = p[:]\n",
    "        \n",
    "    def set_value(self, p):\n",
    "        self.value = p\n",
    "    \n",
    "    def get_value(self):\n",
    "        return self.value\n",
    "    \n",
    "    def set_cluster(self, cluster):\n",
    "        self.cluster = cluster\n",
    "    \n",
    "    def get_cluster(self):\n",
    "        return self.cluster\n",
    "\n",
    "data = []\n",
    "def initialize_dataset():\n",
    "    for i in range(DATA_LEN):\n",
    "        point = DataPoint(DATA_SET[i])\n",
    "        point.set_cluster(None)\n",
    "        data.append(point)\n",
    "    return\n",
    "\n",
    "# --------------------------\n",
    "# Crear el conjunto de datos\n",
    "initialize_dataset()"
   ]
  },
  {
   "cell_type": "markdown",
   "metadata": {},
   "source": [
    "1) Definir el valor de $k$"
   ]
  },
  {
   "cell_type": "code",
   "execution_count": 3,
   "metadata": {
    "collapsed": true
   },
   "outputs": [],
   "source": [
    "NUM_CLUSTERS = 3"
   ]
  },
  {
   "cell_type": "markdown",
   "metadata": {},
   "source": [
    "2) Seleccionar de manera arbitraria *k* puntos en el espacio de características como centros iniciales de  los clusters (centroides o centros de masa).\n",
    "![ ](images/k-means1.png)"
   ]
  },
  {
   "cell_type": "code",
   "execution_count": 4,
   "metadata": {
    "collapsed": false
   },
   "outputs": [
    {
     "name": "stdout",
     "output_type": "stream",
     "text": [
      "Centroides inicializados en:\n",
      "[70.280000000000001, 42.125]\n",
      "[0.0, 56.75]\n",
      "[79.0, 2.5]\n",
      "\n"
     ]
    }
   ],
   "source": [
    "# Definir forma de muestreo; 0 = random, 1=head, 2=tail\n",
    "SAMPLING_METHOD = 1 \n",
    "\n",
    "centroids = []\n",
    "def initialize_centroids():\n",
    "    if (TALK) : \n",
    "        print(\"Centroides inicializados en:\")\n",
    "    for c in range(NUM_CLUSTERS):\n",
    "        if (SAMPLING_METHOD == 0) :\n",
    "            which = random.randint(0,DATA_LEN-1)\n",
    "        elif (SAMPLING_METHOD == 1):\n",
    "            which = c\n",
    "        else :\n",
    "            which = DATA_LEN-1 - c\n",
    "                \n",
    "        centroids.append(list(DATA_SET[which]))\n",
    "        if (TALK) : \n",
    "            print(centroids[c])        \n",
    "    if (TALK) : \n",
    "        print()\n",
    "    \n",
    "    return\n",
    "\n",
    "# --------------------------\n",
    "# Inicializar los centroides\n",
    "initialize_centroids()"
   ]
  },
  {
   "cell_type": "markdown",
   "metadata": {},
   "source": [
    "3) Asignar cada punto del conjunto de datos al cluster donde la distancia del punto al centroide es menor.\n",
    "![ ](images/k-means2.png)"
   ]
  },
  {
   "cell_type": "code",
   "execution_count": 5,
   "metadata": {
    "collapsed": false
   },
   "outputs": [
    {
     "name": "stdout",
     "output_type": "stream",
     "text": [
      "El cluster  0  incluye  18 miembros.\n",
      "El cluster  1  incluye  7 miembros.\n",
      "El cluster  2  incluye  5 miembros.\n",
      "\n"
     ]
    }
   ],
   "source": [
    "def update_clusters():\n",
    "    changed = False\n",
    "    \n",
    "    for i in range(DATA_LEN):\n",
    "        minDistance = LARGER_DISTANCE\n",
    "        currentCluster = 0\n",
    "        \n",
    "        for j in range(NUM_CLUSTERS):\n",
    "            dist = distance.euclidean(data[i].get_value(), centroids[j])\n",
    "            if(dist < minDistance):\n",
    "                minDistance = dist\n",
    "                currentCluster = j\n",
    "        \n",
    "        if(data[i].get_cluster() is None or data[i].get_cluster() != currentCluster):\n",
    "            data[i].set_cluster(currentCluster)\n",
    "            changed = True\n",
    "            \n",
    "    members = [0] * NUM_CLUSTERS\n",
    "    for i in range(DATA_LEN):\n",
    "        members[data[i].get_cluster()] += 1\n",
    "    \n",
    "    if (TALK) : \n",
    "        for j in range(NUM_CLUSTERS):\n",
    "            print(\"El cluster \", j, \" incluye \", members[j], \"miembros.\")\n",
    "        print()\n",
    "            \n",
    "    return changed\n",
    "\n",
    "# --------------------------\n",
    "# Actualizar los clusters\n",
    "KEEP_WALKING = update_clusters()"
   ]
  },
  {
   "cell_type": "markdown",
   "metadata": {},
   "source": [
    "4) Calcular los centroides a partir de los puntos en cada cluster. \n",
    "![ ](images/k-means3.png)"
   ]
  },
  {
   "cell_type": "code",
   "execution_count": 6,
   "metadata": {
    "collapsed": false
   },
   "outputs": [
    {
     "name": "stdout",
     "output_type": "stream",
     "text": [
      "Los nuevos centroids son:\n",
      "[80.957777777777778, 73.79605555555554]\n",
      "[0.0, 73.886571428571415]\n",
      "[84.009999999999991, 6.466800000000001]\n",
      "\n"
     ]
    }
   ],
   "source": [
    "def update_centroids():    \n",
    "    if (TALK) : \n",
    "        print(\"Los nuevos centroids son:\")\n",
    "    for j in range(NUM_CLUSTERS):\n",
    "        means = [0] * DATA_SET.shape[1]\n",
    "            \n",
    "        clusterSize = 0\n",
    "        for k in range(len(data)):\n",
    "            if(data[k].get_cluster() == j):\n",
    "                p = data[k].get_value()\n",
    "                for i in range(DATA_SET.shape[1]):\n",
    "                    means[i] += p[i]\n",
    "                clusterSize += 1\n",
    "\n",
    "        if(clusterSize > 0):\n",
    "            for i in range(DATA_SET.shape[1]):\n",
    "                centroids[j][i] = means[i] / clusterSize\n",
    "\n",
    "        if (TALK) : \n",
    "            print(centroids[j])        \n",
    "    if (TALK) : \n",
    "        print()\n",
    "    \n",
    "    return\n",
    "\n",
    "# --------------------------\n",
    "# Actualizar los centroides\n",
    "update_centroids()"
   ]
  },
  {
   "cell_type": "markdown",
   "metadata": {},
   "source": [
    "5) Repetir los pasos 2 y 3 hasta que no haya cambios en los clusters.\n",
    "![ ](images/k-means4.png)"
   ]
  },
  {
   "cell_type": "code",
   "execution_count": 7,
   "metadata": {
    "collapsed": false
   },
   "outputs": [
    {
     "name": "stdout",
     "output_type": "stream",
     "text": [
      "El cluster  0  incluye  17 miembros.\n",
      "El cluster  1  incluye  7 miembros.\n",
      "El cluster  2  incluye  6 miembros.\n",
      "\n",
      "Los nuevos centroids son:\n",
      "[81.555294117647065, 76.078176470588218]\n",
      "[0.0, 73.886571428571415]\n",
      "[81.808333333333323, 11.222333333333333]\n",
      "\n",
      "El cluster  0  incluye  16 miembros.\n",
      "El cluster  1  incluye  7 miembros.\n",
      "El cluster  2  incluye  7 miembros.\n",
      "\n",
      "Los nuevos centroids son:\n",
      "[82.259999999999991, 78.200249999999983]\n",
      "[0.0, 73.886571428571415]\n",
      "[80.161428571428573, 15.637]\n",
      "\n",
      "El cluster  0  incluye  16 miembros.\n",
      "El cluster  1  incluye  7 miembros.\n",
      "El cluster  2  incluye  7 miembros.\n",
      "\n",
      "No más cambios.\n"
     ]
    }
   ],
   "source": [
    "while(KEEP_WALKING):\n",
    "    KEEP_WALKING = update_clusters()\n",
    "    if (KEEP_WALKING):\n",
    "        update_centroids()\n",
    "    else :\n",
    "        if (TALK) : \n",
    "            print (\"No más cambios.\")    "
   ]
  },
  {
   "cell_type": "markdown",
   "metadata": {},
   "source": [
    "<hr style=\"border-width: 1px;\">\n",
    "\n",
    "El método $k$-means es un método muy robusto (aunque diversos autores han buscado maneras de eficientarlo, ver por ejemplo [este artículo](http://worldcomp-proceedings.com/proc/p2015/CSC2667.pdf) o [este otro](http://academics.smcvt.edu/jtrono/Papers/SMCClusteringPaper_DavidKronenberg.pdf). Su principal restricción es la selección adecuada del número de clusters, $k$. En casos más interesantes que nuestro ejemplo, conviene realizar un análisis previo de determinación de clusters, por dendrogramas, por ejemplo.\n",
    "\n",
    "En el caso de los datos del *Pima Indian Diabetes Data Set*, por ejemplo, el análisis por dendrogramas ha arrojado:"
   ]
  },
  {
   "cell_type": "code",
   "execution_count": 8,
   "metadata": {
    "collapsed": false
   },
   "outputs": [
    {
     "name": "stdout",
     "output_type": "stream",
     "text": [
      "              emb        gl2h         pad         ept        is2h         imc  \\\n",
      "count  393.000000  393.000000  393.000000  393.000000  393.000000  393.000000   \n",
      "mean     3.295165  122.315522   70.671756   29.122137  155.717557   33.072519   \n",
      "std      3.209425   31.435992   12.481277   10.513128  118.879630    7.023947   \n",
      "min      0.000000    0.000000   24.000000    7.000000   14.000000   18.200000   \n",
      "25%      1.000000   99.000000   62.000000   21.000000   76.000000   28.400000   \n",
      "50%      2.000000  119.000000   70.000000   29.000000  125.000000   33.200000   \n",
      "75%      5.000000  143.000000   78.000000   37.000000  190.000000   37.100000   \n",
      "max     17.000000  198.000000  110.000000   63.000000  846.000000   67.100000   \n",
      "\n",
      "              fpd        edad       class  \n",
      "count  393.000000  393.000000  393.000000  \n",
      "mean     0.522476   30.839695    0.330789  \n",
      "std      0.345232   10.199903    0.471097  \n",
      "min      0.085000   21.000000    0.000000  \n",
      "25%      0.270000   23.000000    0.000000  \n",
      "50%      0.447000   27.000000    0.000000  \n",
      "75%      0.687000   36.000000    1.000000  \n",
      "max      2.420000   81.000000    1.000000  \n"
     ]
    },
    {
     "data": {
      "image/png": "[encoded data removed]",
      "text/plain": [
       "<matplotlib.figure.Figure at 0x114798a20>"
      ]
     },
     "metadata": {},
     "output_type": "display_data"
    }
   ],
   "source": [
    "from matplotlib import pyplot as plt\n",
    "from scipy.cluster.hierarchy import dendrogram, linkage\n",
    "%matplotlib inline\n",
    "\n",
    "df = pd.read_csv(\"Pima Indian Data Set/pima-indians-diabetes.data\", \n",
    "                 names = ['emb', 'gl2h', 'pad', 'ept', 'is2h', 'imc', 'fpd', 'edad', 'class'])\n",
    "df.loc[df['pad'] == 0,'pad'] = np.nan\n",
    "df.loc[df['ept'] == 0,'ept'] = np.nan\n",
    "df.loc[df['is2h'] == 0,'is2h'] = np.nan\n",
    "df.loc[df['imc'] == 0,'imc'] = np.nan\n",
    "df = df.dropna()\n",
    "print(df.describe())\n",
    "\n",
    "Z = linkage(df, 'centroid')\n",
    "plt.figure(figsize=(12, 5))\n",
    "dendrogram(Z, truncate_mode='lastp', p=4, show_leaf_counts=True, leaf_font_size=14.)\n",
    "plt.show()"
   ]
  },
  {
   "cell_type": "markdown",
   "metadata": {},
   "source": [
    "Nótese que en este caso hemos desechado los datos incompletos.\n",
    "\n",
    "Podemos tomar este dendrograma y probar suerte con $k=4$:"
   ]
  },
  {
   "cell_type": "code",
   "execution_count": 9,
   "metadata": {
    "collapsed": false
   },
   "outputs": [
    {
     "name": "stdout",
     "output_type": "stream",
     "text": [
      "\n",
      "Cluster 0: 52 miembros.\n",
      "[   4.25  149.62   74.04   30.87  291.48   35.58    0.56   33.9     0.5 ]\n",
      "\n",
      "Cluster 1: 143 miembros.\n",
      "[   3.89  133.31   71.69   30.71  160.43   34.11    0.54   33.29    0.5 ]\n",
      "\n",
      "Cluster 2: 18 miembros.\n",
      "[   3.11  165.83   73.44   35.67  548.83   36.96    0.66   34.56    0.67]\n",
      "\n",
      "Cluster 3: 180 miembros.\n",
      "[   2.57  101.34   68.62   26.7    73.44   31.14    0.48   27.64    0.12]\n"
     ]
    }
   ],
   "source": [
    "NUM_CLUSTERS = 4\n",
    "TALK = False\n",
    "DATA_SET = df.values\n",
    "DATA_LEN = len(DATA_SET)\n",
    "SAMPLING_METHOD = 0 \n",
    "\n",
    "data = []\n",
    "initialize_dataset()\n",
    "centroids = []\n",
    "initialize_centroids()\n",
    "\n",
    "KEEP_WALKING = True\n",
    "while(KEEP_WALKING):\n",
    "    KEEP_WALKING = update_clusters()\n",
    "    if (KEEP_WALKING):\n",
    "        update_centroids()\n",
    "    else :\n",
    "        members = [0] * NUM_CLUSTERS\n",
    "        for i in range(DATA_LEN):\n",
    "            members[data[i].get_cluster()] += 1\n",
    "\n",
    "        for j in range(NUM_CLUSTERS):\n",
    "            print(\"\\nCluster {}: {} miembros.\".format(j, members[j]))\n",
    "            print(np.asarray(centroids[j]))        "
   ]
  },
  {
   "cell_type": "markdown",
   "metadata": {},
   "source": [
    "Y comparando con los resultados obtenido con sklearn.cluster.KMeans"
   ]
  },
  {
   "cell_type": "code",
   "execution_count": 14,
   "metadata": {
    "collapsed": false
   },
   "outputs": [
    {
     "name": "stdout",
     "output_type": "stream",
     "text": [
      "[[   3.89  133.31   71.69   30.71  160.43   34.11    0.54   33.29    0.5 ]\n",
      " [   3.11  165.83   73.44   35.67  548.83   36.96    0.66   34.56    0.67]\n",
      " [   4.25  149.62   74.04   30.87  291.48   35.58    0.56   33.9     0.5 ]\n",
      " [   2.57  101.34   68.62   26.7    73.44   31.14    0.48   27.64    0.12]]\n"
     ]
    }
   ],
   "source": [
    "from sklearn import cluster\n",
    "k_means = cluster.KMeans(n_clusters=4, init='random')\n",
    "k_means.fit(df) \n",
    "\n",
    "print(k_means.cluster_centers_)"
   ]
  },
  {
   "cell_type": "markdown",
   "metadata": {},
   "source": [
    "<hr style=\"border-width: 3px;\">\n",
    "\n",
    "### Tarea 5\n",
    "\n",
    "* Realice la identificación de clases por $k$-means de los datos de los sobrevivientes del Titanic. \n",
    "\n",
    "**Fecha de entrega**: Martes 20 de septiembre."
   ]
  },
  {
   "cell_type": "code",
   "execution_count": null,
   "metadata": {
    "collapsed": true
   },
   "outputs": [],
   "source": []
  }
 ],
 "metadata": {
  "celltoolbar": "Raw Cell Format",
  "kernelspec": {
   "display_name": "Python 3",
   "language": "python",
   "name": "python3"
  },
  "language_info": {
   "codemirror_mode": {
    "name": "ipython",
    "version": 3
   },
   "file_extension": ".py",
   "mimetype": "text/x-python",
   "name": "python",
   "nbconvert_exporter": "python",
   "pygments_lexer": "ipython3",
   "version": "3.5.2"
  }
 },
 "nbformat": 4,
 "nbformat_minor": 0
}
