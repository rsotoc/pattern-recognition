{
 "cells": [
  {
   "cell_type": "markdown",
   "metadata": {},
   "source": [
    "# Reconocimiento de patrones: Introducción\n",
    "### Ramón Soto C. [(rsotoc@moviquest.com)](mailto:rsotoc@moviquest.com/)\n",
    "![ ](images/blank.png)\n",
    "![agents](images/binary_data_under_a_magnifying.jpg)\n",
    "[ver en nbviewer](http://nbviewer.ipython.org/github/rsotoc/pattern-recognition/blob/master/Intro%201.%20Bases%20cognitivas.ipynb)"
   ]
  },
  {
   "cell_type": "markdown",
   "metadata": {},
   "source": [
    "![ ](images/blank.png)\n",
    "## Definición. Bases cognitivas\n",
    "\n",
    "Los modelos científicos-matemáticos, utilizados por los seres humanos para dominar su entorno, son representaciones parciales de la realidad, limitadas por las capacidades del ser humano para sensar su entorno.\n",
    "\n",
    "![](images/protagoras.jpg)\n",
    "![ ](images/blank.png)\n",
    "Un *patrón* puede definirse como  una regularidad en un sistema. La capacidad de identificar estas regularidades es lo que nos permite reconocer objetos en ambientes complejos. Esta capacidad es lo que podemos llamar **Reconocimiento de patrones** \n",
    "\n",
    "![](images/patterns01.jpeg)\n",
    "![ ](images/blank.png)\n",
    "Si bien las técnicas de reconocimiento de patrones suelen basarse en la búsqueda de regularidades matemáticas (estadísticas, principalmente), el reconocimiento de patrones es una habilidad natural del ser humano. Existen diferentes tipos de regularidades que pueden ser detectadas de forma natural por los humanos, entre las que se pueden destacar las siguientes: \n",
    "* **Armonía**: La armonía puede definirse como un arreglo agradable de las partes de un sistema. En las experiencias visuales, la armonía es algo que sea agradable a la vista, como determinadas combiaciones de colores. De la misma manera, podemos hablar de armonias auditivas, olfativas, gustativas o táctiles. \n",
    "![](images/armonias.jpg)\n",
    "![ ](images/blank.png)\n",
    "* **Ritmo**: El ritmo es cualquier movimiento regular y recurrente, marcado por la sucesión regular de elementos débiles y fuertes, o bien de condiciones opuestas o diferentes. \n",
    "![](images/rythm.jpg)\n",
    "![ ](images/blank.png)\n",
    "En la definición del ritmo, el movimiento puede hacer referencia a una secuencia 'apreciadas' de estados: un escalon que 'sigue a otro', por ejemplo. \n",
    "![ ](images/blank.png)\n",
    "* **Flujo**: Un flujo es el movimiento de un fluido. En arte visual, el flujo es la ilusión de movimiento en un conjunto que se obtiene a través de la manipulación de colores y formas. \n",
    "![](images/flujo.jpg)\n",
    "![ ](images/blank.png)\n",
    "* **Simetría**: La simetría se define como la 'correspondencia exacta en la disposición regular de las partes o puntos de un cuerpo o figura con relación a un centro, un eje o un plano'. \n",
    "![](images/simetrias.jpg)\n",
    "![ ](images/blank.png)\n",
    "* **Proporcionalidad**: La proporcionalidad es una relación o razón constante entre magnitudes medibles. \n",
    "![](images/proporcion.jpg)\n",
    "![ ](images/blank.png)\n"
   ]
  },
  {
   "cell_type": "markdown",
   "metadata": {},
   "source": [
    "<hr style=\"border-width: 3px;\">\n",
    "\n",
    "### Tarea 1\n",
    "\n",
    "Describa un problema de reconocimiento de patrones de su interés y explique por qué un modelo tradicional sería inapropiado para resolverlo (utilice la celda siguiente, en esta libreta, para presentar su problema seleccionado).\n",
    "\n",
    "**Fecha de entrega**: Viernes 20 de enero."
   ]
  },
  {
   "cell_type": "markdown",
   "metadata": {},
   "source": [
    "<hr style=\"border-width: 3px;\">\n",
    "\n",
    "### Problema: Reconocimiento de señales en ladridos\n",
    "Siempre me ha interesado el análisis de los diferentes sonidos que emiten algunos animales, en particular los ladridos de los perros. Pienso que puede tener diversas aplicaciones algunos ejemplos son para perros entrenados de personas ciegas o perros policías. Usar reconocimiento de patrones es mucho más efectivo para tratar este tipo de problemas puesto que hay muchas variaciones en los ladridos que dependiendo de la frecuencia tiene un cierto significado y se pueden llegar a clasificar con mayor facilidad que el seguir un modelo matemático por ejemplo el cual trata de representar cada uno de los tipos entidades que intervienen en un cierto proceso físico mediante objetos matemáticos y a veces esto resulta muy difícil o no tiene una solución.\n",
    "\n",
    "#### Autor: Erick Fernando López Fimbres"
   ]
  },
  {
   "cell_type": "markdown",
   "metadata": {},
   "source": [
    "<hr style=\"border-width: 3px;\">\n",
    "\n",
    "### Problema 1: Predicción en el tiempo que toma reconocer a una persona con alguna enfermedad mental en el ámbito laboral \n",
    "### Problema 2: Interpretación de la risa de un niño de 4 años para detectar trastornos psicológicos\n",
    "Este tipo de problemas son inapropiados de resolver con modelos matemáticos propiamente debido a que se esta trabajando con algo tan complejo como lo es el ser humano y más aún si se trata de esa parte tan peculiar como lo es su mente. Reconocimiento de patrones es la herramienta más natural para este tipo de problemas donde el objeto a analizar consta de miles de millones de individuos diferentes.\n",
    "\n",
    "#### Autor: Belen Chavarría"
   ]
  },
  {
   "cell_type": "markdown",
   "metadata": {},
   "source": [
    "<hr style=\"border-width: 3px;\">\n",
    "\n",
    "### Problema: Reconocimiento de patrones para la integracion de sistemas\n",
    "Viendo un poco de como el internet de las cosas ha ido evolucionando y se han creado una infinidad de productos tecnológicos, uno de los problemas que yo creo que ha nacido a raiz de esto es la diversidad de arquitecturas de programación, y el usar reconocimientos de patrones seria una herramienta muy util para poder integrar las diferentes tecnologias, hacer posible la compatibilidad y tener control o sacarle más provecho.\n",
    "\n",
    "#### Autor: Fernando Alexis Martinez Valenzuela"
   ]
  },
  {
   "cell_type": "markdown",
   "metadata": {},
   "source": [
    "<hr style=\"border-width: 3px;\">\n",
    "\n",
    "### Problema 1: Detección de pérdida de clientes\n",
    "El problema sería dado el registro de actividades de un cliente en una empresa x, decir si ese cliente puede perderse.\n",
    "\n",
    "### Problema 2: ¿Qué sembrar?\n",
    "El problema sería que dado un terreno, decir cuáles serían las mejores siembras posibles para ese suelo.\n",
    "\n",
    "### Problema 3: Detección de malas siembras\n",
    "El problema sería que dada una plantación decir qué plantas están mal o qué se necesita para que puedan mejorar.\n",
    "\n",
    "### Problema 4: Detección de irregularidades a la hora de sacar dinero\n",
    "El problema sería que dada una extracción de dinero de un banco, comparar esa extracción con las que ese cliente hace regularmente y ver si se trata de un robo.\n",
    "\n",
    "#### Autor: Francisco Enrique Córdova González"
   ]
  },
  {
   "cell_type": "markdown",
   "metadata": {},
   "source": [
    "<hr style=\"border-width: 3px;\">\n",
    "\n",
    "### Problema: Reconocimiento de ondas cerebrales\n",
    "Poder detectar las distintas ondas cerebrales que genera una persona, y poder interpretarlas como pensamientos no solo es interesante, sino que podria ser util para (por ejemplo) personsas en estado de coma que no pueden comunicarse, particularlmente en decisiones como si desean mantenerse con vida o no.\n",
    "\n",
    "#### Autor: Jorge Arturo Carvajal Siller"
   ]
  },
  {
   "cell_type": "markdown",
   "metadata": {},
   "source": [
    "<hr style=\"border-width: 3px;\">\n",
    "\n",
    "### Problema: Mi problema se basara en obtener perfiles y comportamientos, utilizando un articulo de investigacion de la facultad de informatica y usando the Graph API de facebook, para identificar a los usuarios con accesso no permitodo..\n",
    "#### Autor: carlos Huguez"
   ]
  },
  {
   "cell_type": "markdown",
   "metadata": {},
   "source": [
    "<hr style=\"border-width: 3px;\">\n",
    "\n",
    "### Problema: xxxxx\n",
    "#### Autor: xxxxx\n",
    "\n",
    "..."
   ]
  }
 ],
 "metadata": {
  "celltoolbar": "Raw Cell Format",
  "kernelspec": {
   "display_name": "Python 3",
   "language": "python",
   "name": "python3"
  },
  "language_info": {
   "codemirror_mode": {
    "name": "ipython",
    "version": 3
   },
   "file_extension": ".py",
   "mimetype": "text/x-python",
   "name": "python",
   "nbconvert_exporter": "python",
   "pygments_lexer": "ipython3",
   "version": "3.5.2"
  }
 },
 "nbformat": 4,
 "nbformat_minor": 0
}
