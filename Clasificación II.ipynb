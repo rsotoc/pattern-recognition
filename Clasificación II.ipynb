{
 "cells": [
  {
   "cell_type": "markdown",
   "metadata": {},
   "source": [
    "# Reconocimiento de patrones: Clasificación\n",
    "### Ramón Soto C. [(rsotoc@moviquest.com)](mailto:rsotoc@moviquest.com/)\n",
    "![ ](images/blank.png)\n",
    "![agents](images/binary_data_under_a_magnifying.jpg)\n",
    "[ver en nbviewer](http://nbviewer.ipython.org/github/rsotoc/pattern-recognition/blob/master/Clasificación%20II.ipynb)"
   ]
  },
  {
   "cell_type": "markdown",
   "metadata": {},
   "source": [
    "## Técnicas de clasificación: El método ingenuo de Bayes\n",
    "\n",
    "El método ingenuo de Bayes o *Naive Bayes* describe a una familia de clasificadores que utilizan el Teorema de Bayes para realizar la clasificación de nuevas observaciones de una manera ingenua: asumiendo que existe total independencia entre los diferentes atributos de un objeto. \n",
    "\n",
    "![ ](images/Bayes Sheldon.png)\n",
    "\n",
    "Este es uno de los métodos de clasificación más populares, en parte debido a que funciona *sorprendentemente* bien en muchos problemas y en parte porque ofrece la <u>tranquilidad</u> de \"estar basado\" en una una rama de la matemática bien establecida y con una honorable y sólida reputación... cualquier cosa que esto último signifique :-|.\n",
    "\n",
    "![ ](images/teacher.jpg)\n",
    "\n",
    "\n",
    "### Teorema de Bayes\n",
    "\n",
    "El teorea de Bayes describe la probabilidad de que ocurra un evento en base a las condiciones relacionadas al evento. Matemáticamente:\n",
    "\n",
    "$$\n",
    "P(A\\ |\\ B) = \\frac{P(B\\ |\\ A)P(A)}{P(B)}\n",
    "$$\n",
    "\n",
    "Aquí \n",
    "\n",
    "* $A$ y $B$ son dos eventos cualesquiera; $P(A)$ es la probabilidad de que ocurra el evento $A$ y $P(B)$ la probabilidad de que ocurra $B$ sin importar su posible interrelación; asumimos que $P(B)\\neq 0$.<br><br>\n",
    "\n",
    "* $P(A\\ |\\ B)$ es la probabilidad (condicional) de que observemos el evento $A$ sabiendo (por evidencia, por suposición, por presunción o por afirmación) que ha ocurrido el evento $B$. <br><br>\n",
    "\n",
    "* $P(B\\ |\\ A)$ es la probabilidad de $B$ dado $A$.\n",
    "\n",
    "\n",
    "### Teorema de bayes y el problema de clasificación\n",
    "\n",
    "El teorema de Bayes puede emplearse para determinar la clase a la que pertenece un elemento, bajo la siguiente re-escritura:\n",
    "\n",
    "Supongamos que el elemento que queremos clasificar está representado por el vector de características $\\mathbf{x} =(x_{1},\\dots, x_{n})$ y el conjunto de posibles clases es $C = \\{C_1\\ldots, C_k\\ldots, C_K\\}$. Entonces, describimos la probabilidad de que $\\mathbf{x}$ pertenezca a la clase $C_k$ como $p(C_{k}\\ \\mid\\ x_{1},\\dots, x_{n})$. De esta manera, debemos reescribir la ecuación del teorema de Bayes, para este caso como:<br><br>\n",
    "\n",
    "\\begin{eqnarray*}\n",
    "P(C_{k} \\mid\\mathbf{x}) & = & \\frac{P(\\mathbf{x}\\mid C_{k})P(C_{k})}{P(\\mathbf{x})} \\\\\n",
    "p(C_{k}\\ \\mid\\ x_{1},\\dots, x_{n}) & = & \\frac{P(x_{1},\\dots, x_{n}\\mid C_{k})P(C_{k})}{P(x_{1},\\dots, x_{n})}\n",
    "\\end{eqnarray*}<br><br>\n",
    "\n",
    "Pero (la distribución conjunta para variables condicionalmente dependientes establece)\n",
    "\n",
    "$$\n",
    "P(x_{1},\\dots, x_{n}\\mid C_{k})P(C_{k}) = P(C_{k},x_{1},\\dots ,x_{n})\n",
    "$$\n",
    "\n",
    "Que puede reescribirse como:<br><br>\n",
    "\n",
    "\\begin{eqnarray*}\n",
    "P(C_{k}, x_{1},\\dots, x_{n}) & = & P(x_{1},\\dots, x_{n}, C_{k})\\\\\n",
    "& = & P(x_{1}\\mid x_{2},\\dots, x_{n}, C_{k})P(x_{2},\\dots, x_{n},C_{k})\\\\\n",
    "& = & P(x_{1}\\mid x_{2},\\dots, x_{n}, C_{k})P(x_{2} \\mid x_{3},\\dots, x_{n}, C_{k}) P(x_{3},\\dots, x_{n}, C_{k}) \\\\\n",
    "& = & \\dots \\\\\n",
    "& = & P(x_{1}\\mid x_{2},\\dots, x_{n}, C_{k}) P(x_{2}\\mid x_{3},\\dots, x_{n}, C_{k})\\dots P(x_{n-1}\\mid x_{n}, C_{k}) P(x_{n}\\mid C_{k}) P(C_{k})\n",
    "\\end{eqnarray*}<br><br>\n",
    "\n",
    "Ahora bien, si asumimos que las características $x_i$ y $x_j$ son condicionalmente independientes, para toda $i\\neq j$, es decir, que la ocurrencia de una característica no está influenciada por la ocurrencia de otra de las características, entonces\n",
    "\n",
    "$$P(x_{i}\\mid x_{i+1},\\dots, x_{n}, C_{k}) = P(x_{i}\\mid C_{k})$$\n",
    "\n",
    "Y podemos reescribir\n",
    "\n",
    "$$P(C_{k} \\mid x_1, \\dots, x_n) = \\frac{P(C_{k}) \\prod_{i=1}^{n} P(x_i \\mid C_{k})} {P(x_1, \\dots, x_n)}$$\n",
    "\n",
    "Por otra parte, $P(x_1, \\dots, x_n)$ es constante una vez definida la entrada, entonces podemos ignorar este término y reescribir la ecuación anterior como:\n",
    "\n",
    "$$P(C_{k} \\mid x_1, \\dots, x_n) \\propto P(C_{k}) \\prod_{i=1}^{n} P(x_i \\mid C_{k})$$"
   ]
  },
  {
   "cell_type": "markdown",
   "metadata": {},
   "source": [
    "La ecuación anterior nos proporciona la *distribución de probabilidades* de que el vector $\\mathbf{x}$ pertenezca a cada una de las clases $C_1\\ldots, C_K$, esto es, el modelo ingenuo de probabilidades de Bayes. Ahora debemos utilizar este modelo para escoger una de las clases. Una opción común es seleccionar aquella clase que es más probable de ajustarse a $\\mathbf{x}$. Esta decisión es lo que se conoce como estimación máxima a posteriori (**MAP**). \n",
    "\n",
    "Es decir, clasificamos $\\mathbf{x}$ dentro de la clase que maximiza el valor de $P(C_{k} \\mid x_1, \\dots, x_n)$"
   ]
  },
  {
   "cell_type": "code",
   "execution_count": 1,
   "metadata": {
    "collapsed": false
   },
   "outputs": [],
   "source": [
    "# Inicializar el ambiente\n",
    "import numpy as np\n",
    "import pandas as pd\n",
    "import math\n",
    "import random\n",
    "import time\n",
    "import os\n",
    "import sys\n",
    "from scipy.spatial import distance\n",
    "from sklearn import cluster\n",
    "from matplotlib import pyplot as plt\n",
    "%matplotlib inline\n",
    "np.set_printoptions(precision=2, suppress=True) # Cortar la impresión de decimales a 1\n",
    "\n",
    "os.chdir('Data sets')"
   ]
  },
  {
   "cell_type": "code",
   "execution_count": 2,
   "metadata": {
    "collapsed": false
   },
   "outputs": [
    {
     "name": "stdout",
     "output_type": "stream",
     "text": [
      "Datos de entrenaiento: \n",
      "[[  70.28   42.12]\n",
      " [   0.     56.75]\n",
      " [  79.      2.5 ]\n",
      " [  75.64   11.67]\n",
      " [  82.     58.8 ]\n",
      " [  86.     77.27]\n",
      " [  80.     85.5 ]\n",
      " [  68.2    62.44]\n",
      " [  72.     88.  ]\n",
      " [  74.     80.6 ]\n",
      " [  91.72    0.  ]\n",
      " [  77.69   13.17]\n",
      " [  79.8    71.2 ]\n",
      " [  87.1    75.39]\n",
      " [   0.     80.85]\n",
      " [   0.     59.93]\n",
      " [  96.      5.  ]\n",
      " [  86.     89.58]\n",
      " [   0.     76.25]\n",
      " [   0.     90.62]\n",
      " [ 100.     95.06]\n",
      " [  87.     62.56]\n",
      " [  79.     82.46]\n",
      " [   0.     75.92]\n",
      " [   0.     76.88]\n",
      " [  73.46   83.53]\n",
      " [  92.     87.56]\n",
      " [  77.     84.38]\n",
      " [  70.8    35.  ]\n",
      " [  92.6    66.88]]\n",
      "\n",
      "Dato de prueba:\n",
      "[72, 52]\n",
      "\n",
      "Prototipos de clase (centroides):\n",
      " [[ 80.16  15.64]\n",
      " [  0.    73.89]\n",
      " [ 82.26  78.2 ]]\n"
     ]
    },
    {
     "data": {
      "image/png": "[encoded data removed]",
      "text/plain": [
       "<matplotlib.figure.Figure at 0x115a939e8>"
      ]
     },
     "metadata": {},
     "output_type": "display_data"
    }
   ],
   "source": [
    "# Leer los datos de archivo, separar training y test y calcular \"prototipos de clase\"\n",
    "train_set = pd.read_csv(\"datosProm.csv\", names = ['A', 'B']).values\n",
    "test_point = [72, 52]\n",
    "print(\"Datos de entrenaiento: \\n{}\\n\\nDato de prueba:\\n{}\\n\".format(train_set, test_point))\n",
    "\n",
    "from sklearn import cluster\n",
    "from matplotlib import pyplot as plt\n",
    "%matplotlib inline\n",
    "\n",
    "num_clusters = 3\n",
    "k_means = cluster.KMeans(n_clusters=num_clusters, init='random')\n",
    "k_means.fit(train_set) \n",
    "print(\"Prototipos de clase (centroides):\\n\", k_means.cluster_centers_)\n",
    "\n",
    "fig = plt.figure(figsize=(8, 5))\n",
    "colors = ['#ff0000', '#00ff00', '#0000ff']\n",
    "for k in range(num_clusters):\n",
    "    my_members = k_means.labels_ == k\n",
    "    plt.plot(train_set[my_members, 0], train_set[my_members, 1], 'o', \n",
    "             markeredgecolor='k', markerfacecolor=colors[k], markersize=4)\n",
    "    plt.plot(k_means.cluster_centers_[k][0], k_means.cluster_centers_[k][1], 'o', \n",
    "             markeredgecolor='k', markerfacecolor=colors[k], markersize=6)\n",
    "plt.annotate('Punto nuevo', xy=(test_point[0], test_point[1]), xytext=(40, 50),\n",
    "            arrowprops=dict(facecolor='black', shrink=0.1, width=1, headwidth=7))\n",
    "plt.plot(test_point[0], test_point[1], 'w', marker='*', markersize=8)\n",
    "plt.xlim([-10,110])\n",
    "plt.ylim([-10,100])\n",
    "plt.show()"
   ]
  },
  {
   "cell_type": "markdown",
   "metadata": {},
   "source": [
    "### Casos según $k$\n",
    "\n",
    "Existen dos casos generales de implementación del método kNN:\n",
    "#### <big>I</big>. $k=1$ o **Regla del vecino más cercano**. \n",
    "El escenario es muy simple: Buscar el vector de *entrenamiento* $x$ cuya similaridad al vector de entrada $y$ sea mayor (o cuya distancia a $y$ sea menor): "
   ]
  },
  {
   "cell_type": "code",
   "execution_count": 3,
   "metadata": {
    "collapsed": false
   },
   "outputs": [
    {
     "name": "stdout",
     "output_type": "stream",
     "text": [
      "Los 5 vecinos más próximos son:\n",
      "Vecino 0: 0, dist=10.023673228911644, clase=0, centroide=[ 80.16  15.64]\n",
      "Vecino 1: 7, dist=11.11006750654558, clase=2, centroide=[ 82.26  78.2 ]\n",
      "Vecino 2: 4, dist=12.092973166264777, clase=2, centroide=[ 82.26  78.2 ]\n",
      "Vecino 3: 28, dist=17.04230031421815, clase=0, centroide=[ 80.16  15.64]\n",
      "Vecino 4: 21, dist=18.342004688692022, clase=2, centroide=[ 82.26  78.2 ]\n",
      "\n",
      "El nuevo punto es asignado a la clase 0\n"
     ]
    }
   ],
   "source": [
    "LARGER_DISTANCE = sys.maxsize\n",
    "\n",
    "k_neighs = 5 # 5 vecinos... aunque tomaremos sólo el más cercano\n",
    "neighbors_dists = [LARGER_DISTANCE] * k_neighs\n",
    "neighbors = [0] * k_neighs\n",
    "for i in range(len(train_set)):\n",
    "    dist = distance.euclidean(train_set[i], test_point)\n",
    "    for k in range(k_neighs):\n",
    "        if (dist < neighbors_dists[k]) :\n",
    "            for j in range(k_neighs-1, k, -1):\n",
    "                neighbors_dists[j] = neighbors_dists[j-1]\n",
    "                neighbors[j] = neighbors[j-1] \n",
    "            neighbors_dists[k] = dist\n",
    "            neighbors[k] = i\n",
    "            break\n",
    "            \n",
    "print(\"Los {} vecinos más próximos son:\".format(k_neighs))\n",
    "for k in range(k_neighs):\n",
    "    clase = k_means.labels_[neighbors[k]]\n",
    "    print(\"Vecino {}: {}, dist={}, clase={}, centroide={}\"\n",
    "          .format(k, neighbors[k], neighbors_dists[k], \n",
    "                  clase, k_means.cluster_centers_[clase]))\n",
    "print(\"\\nEl nuevo punto es asignado a la clase\", k_means.labels_[neighbors[0]])"
   ]
  },
  {
   "cell_type": "markdown",
   "metadata": {},
   "source": [
    "Este enfoque es demasido simple y suele arrojar malos resultados... a no ser que:\n",
    "\n",
    "0) Que las clases estén muy bien diferenciadas :-S\n",
    "\n",
    "1) El número de ejemplos sea muy grande. En tal caso, es muy probable que para cada nuevo observación haya un elemento en el conjunto de entrenamiento que sea casi idéntico a la nueva obervación.\n",
    "\n",
    "2) Que el vecino más próximo se tome con respecto a los prototipos!... "
   ]
  },
  {
   "cell_type": "code",
   "execution_count": 4,
   "metadata": {
    "collapsed": false
   },
   "outputs": [
    {
     "name": "stdout",
     "output_type": "stream",
     "text": [
      "Distancia del punto de prueba al prototipo de la clase 0: 37.267635896666846\n",
      "Distancia del punto de prueba al prototipo de la clase 1: 75.25305315333033\n",
      "Distancia del punto de prueba al prototipo de la clase 2: 28.1375318758149\n"
     ]
    }
   ],
   "source": [
    "for i in range(num_clusters):\n",
    "    dist = distance.euclidean(k_means.cluster_centers_[i], test_point)\n",
    "    print (\"Distancia del punto de prueba al prototipo de la clase {}: {}\".format(i, dist))"
   ]
  },
  {
   "cell_type": "markdown",
   "metadata": {},
   "source": [
    "#### <big>II.</big> $k = K$ ó **Regla de los k-vecinos próximos**. \n",
    "\n",
    "En este caso, se seleccionan los $k$ vectores de entrenamiento más cercanos a la nueva observación. La nueva clase es seleccionada mediante un proceso de *votación*. Existen diversas formas de realizar la votación, ya se un simple conteo de vecinos en cada caso o diversas formas de votación ponderada.\n",
    "\n",
    "En el caso anterior:"
   ]
  },
  {
   "cell_type": "code",
   "execution_count": 6,
   "metadata": {
    "collapsed": false
   },
   "outputs": [
    {
     "name": "stdout",
     "output_type": "stream",
     "text": [
      "Votación simple:\n",
      "El nuevo punto es asignado a la clase 2 con 3 vecinos cercanos.\n",
      "\n",
      "Los 5 vecinos más próximos y sus pesos ponderados son:\n",
      "Vecino 0: peso=0.8539057808944022, clase: 0\n",
      "Vecino 1: peso=0.8380716729773634, clase: 2\n",
      "Vecino 2: peso=0.8237459032189313, clase: 2\n",
      "Vecino 3: peso=0.7516098640379241, clase: 0\n",
      "Vecino 4: peso=0.7326667788713791, clase: 2\n",
      "\n",
      "Votación ponderada:\n",
      "El nuevo punto es asignado a la clase 2 con una votación de 2.3944843550676738.\n"
     ]
    }
   ],
   "source": [
    "simple_vote = [0] * num_clusters\n",
    "winner = 0 \n",
    "for k in range(k_neighs):\n",
    "    clase = k_means.labels_[neighbors[k]]\n",
    "    simple_vote[clase] += 1\n",
    "for k in range(num_clusters):\n",
    "    if (simple_vote[k] == max(simple_vote)):\n",
    "        winner = k\n",
    "print(\"Votación simple:\\nEl nuevo punto es asignado a la clase {} con {} vecinos cercanos.\\n\"\n",
    "      .format(winner, simple_vote[winner]))\n",
    "\n",
    "print(\"Los {} vecinos más próximos y sus pesos ponderados son:\".format(k_neighs))\n",
    "suma_dists = sum(neighbors_dists)\n",
    "neighbors_weights = [0] * k_neighs\n",
    "weighted_vote = [0] * num_clusters\n",
    "winner = 0 \n",
    "for k in range(k_neighs):\n",
    "    neighbors_weights[k] = 1 - neighbors_dists[k] / suma_dists\n",
    "    clase = k_means.labels_[neighbors[k]]\n",
    "    weighted_vote[clase] += neighbors_weights[k]\n",
    "    print(\"Vecino {}: peso={}, clase: {}\"\n",
    "          .format(k, neighbors_weights[k], k_means.labels_[neighbors[k]]))\n",
    "for k in range(num_clusters):\n",
    "    if (simple_vote[k] == max(simple_vote)):\n",
    "        winner = k\n",
    "print(\"\\nVotación ponderada:\")\n",
    "print(\"El nuevo punto es asignado a la clase {} con una votación de {}.\"\n",
    "      .format(winner, weighted_vote[winner]))"
   ]
  },
  {
   "cell_type": "markdown",
   "metadata": {},
   "source": [
    "### Observaciones\n",
    "\n",
    "* El método ingenuo de Bayes suele ser visto como un método más \"*formal*\" que los métodos basados en ejemplos, dado que se basa en un modelo formal, aunque muy limitado."
   ]
  },
  {
   "cell_type": "markdown",
   "metadata": {},
   "source": [
    "<hr style=\"border-width: 3px;\">\n",
    "\n",
    "### Tarea 6\n",
    "\n",
    "* Utilice el método de $k$ vecinos próximos para realizar la limpieza de datos en el Pima Indians Diabetes Dataset.\n",
    "\n",
    "**Fecha de entrega**: Martes 27 de septiembre."
   ]
  }
 ],
 "metadata": {
  "celltoolbar": "Raw Cell Format",
  "kernelspec": {
   "display_name": "Python 3",
   "language": "python",
   "name": "python3"
  },
  "language_info": {
   "codemirror_mode": {
    "name": "ipython",
    "version": 3
   },
   "file_extension": ".py",
   "mimetype": "text/x-python",
   "name": "python",
   "nbconvert_exporter": "python",
   "pygments_lexer": "ipython3",
   "version": "3.5.2"
  }
 },
 "nbformat": 4,
 "nbformat_minor": 0
}
