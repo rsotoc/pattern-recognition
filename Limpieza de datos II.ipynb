{
 "cells": [
  {
   "cell_type": "markdown",
   "metadata": {},
   "source": [
    "# Reconocimiento de patrones: Preparación de datos\n",
    "### Ramón Soto C. [(rsotoc@moviquest.com)](mailto:rsotoc@moviquest.com/)\n",
    "![ ](images/blank.png)\n",
    "![agents](images/binary_data_under_a_magnifying.jpg)\n",
    "[ver en nbviewer](http://nbviewer.ipython.org/github/rsotoc/pattern-recognition/blob/master/Limpieza%20de%20datos%20II.ipynb)"
   ]
  },
  {
   "cell_type": "markdown",
   "metadata": {},
   "source": [
    "## Valores atípicos\n",
    "\n",
    "Un valor atípico es una observación que se ubica fuera del patrón general de distribución de los datos ([Mathworld](http://mathworld.wolfram.com/Outlier.html)). \n",
    "\n",
    "![](images/Outlier.png)\n",
    "![ ](images/blank.png)\n",
    "\n",
    "Los valores atípicos pueden deberse a diferentes causas, siendo las principales:\n",
    "* Casos que no se ajustan al modelo de estudio\n",
    "* Errores en la medición\n",
    "\n",
    "El tratamiento dado a los valores atípicos depende del origen de la inconsistencia. En el caso de errores en la medición pueden eliminarse o ajustarse (como en el caso de [valores faltantes](http://nbviewer.ipython.org/github/rsotoc/pattern-recognition/blob/master/Limpieza%20de%20datos%20I.ipynb)). Cuando la causa es que los casos no se ajustan al modelo utilizado pueden indicar la necesidad de replantear el modelo (incluyendo modificaciones a la teoría, como sucedía con el caso del movimiento anómalo de Mercurio). Sin embargo, también pueden representar casos singulares o excepcionales. En cualquier caso, es importante detectar estos valores, pues su presencia generan tendencias en el análisis global de los datos.\n",
    "\n",
    "Una forma común de analizar la presencia de valores atípicos es a través de los diagramas de caja (boxplots). El diagrama de caja es una descripción gráfica de la agrupación de los datos en base a sus cuartiles y tiene la siguiente estructura:\n",
    "\n",
    "[![ ](images/457px-Boxplot.svg.png)](https://es.wikipedia.org/wiki/Diagrama_de_caja)\n",
    "![ ](images/blank.png)\n",
    "\n",
    "El espaciado entre los componentes de una caja reflejan la dispersión y tendencias en los datos. La parte principal de esta representación es la propia caja. La tapa inferior corresponde al primer cuartil (Q1, el punto que separa el 25% de los datos inferiores), la línea intermedia refleja la mediana o segundo cuartil (Q2) y la tapa superior corresponde al tercer cuartil (Q3, el punto que delimita el 75% de los datos inferiores). RIC es el *rango inter cuartil* y es el 50% de los datos que quedan al centro del conjunto total de datos. Las líneas punteadas se denomina *bigotes* (*whiskers*); los extremos de los bigotes inferior y superior suelen seleccionarse como el menor dato que aún queda a una distancia máxima de 1.5 veces RIC por abajo de Q1 y el dato máximo a una distancia igual o menor de 1.5 RIC por arriba de Q3. \n",
    "\n",
    "Analizamos la submuesytra de datos de diabetes, en primera instancia para la variable '*gl2h*' y posteriormente para todo el conjunto, utilizando los datos con valores faltantes en cero."
   ]
  },
  {
   "cell_type": "code",
   "execution_count": 1,
   "metadata": {
    "collapsed": false
   },
   "outputs": [],
   "source": [
    "\"\"\"\n",
    "Reconocimiento de patrones: Valores atípicos\n",
    "\"\"\"\n",
    "\n",
    "import numpy as np\n",
    "import pandas as pd\n",
    "import os\n",
    "import matplotlib.pyplot as plt\n",
    "%matplotlib inline  \n",
    "\n",
    "import warnings # current version of seaborn generates a bunch of warnings that we'll ignore\n",
    "warnings.filterwarnings(\"ignore\")\n",
    "\n",
    "os.chdir('Data sets/Pima Indian Data Set')"
   ]
  },
  {
   "cell_type": "code",
   "execution_count": 2,
   "metadata": {
    "collapsed": false
   },
   "outputs": [
    {
     "name": "stdout",
     "output_type": "stream",
     "text": [
      "    emb  gl2h  pad  ept  is2h   imc    fpd  edad  class\n",
      "0     6   148   72   35     0  33.6  0.627    50      1\n",
      "1     1    85   66   29     0  26.6  0.351    31      0\n",
      "2     8   183   64    0     0  23.3  0.672    32      1\n",
      "3     1    89   66   23    94  28.1  0.167    21      0\n",
      "4     0   137   40   35   168  43.1  2.288    33      1\n",
      "5     5   116   74    0     0  25.6  0.201    30      0\n",
      "6     3    78   50   32    88  31.0  0.248    26      1\n",
      "7    10   115    0    0     0  35.3  0.134    29      0\n",
      "8     2   197   70   45   543  30.5  0.158    53      1\n",
      "9     8   125   96    0     0   0.0  0.232    54      1\n",
      "10    4   110   92    0     0  37.6  0.191    30      0\n",
      "11   10   168   74    0     0  38.0  0.537    34      1\n",
      "12   10   139   80    0     0  27.1  1.441    57      0\n",
      "13    1   189   60   23   846  30.1  0.398    59      1\n",
      "14    5   166   72   19   175  25.8  0.587    51      1\n",
      "15    7   100    0    0     0  30.0  0.484    32      1\n",
      "16    0   118   84   47   230  45.8  0.551    31      1\n",
      "17    7   107   74    0     0  29.6  0.254    31      1\n",
      "18    1   103   30   38    83  43.3  0.183    33      0\n",
      "19    1   115   70   30    96  34.6  0.529    32      1\n",
      "            emb        gl2h        pad        ept        is2h        imc  \\\n",
      "count  20.00000   20.000000  20.000000  20.000000   20.000000  20.000000   \n",
      "mean    4.50000  129.400000  61.700000  17.800000  116.150000  30.950000   \n",
      "std     3.56149   35.354446  26.159631  17.733703  215.843821   9.654424   \n",
      "min     0.00000   78.000000   0.000000   0.000000    0.000000   0.000000   \n",
      "25%     1.00000  106.000000  57.500000   0.000000    0.000000  26.975000   \n",
      "50%     4.50000  117.000000  70.000000  21.000000    0.000000  30.300000   \n",
      "75%     7.25000  152.500000  74.000000  32.750000  114.000000  35.875000   \n",
      "max    10.00000  197.000000  96.000000  47.000000  846.000000  45.800000   \n",
      "\n",
      "             fpd       edad     class  \n",
      "count  20.000000  20.000000  20.00000  \n",
      "mean    0.511650  37.450000   0.65000  \n",
      "std     0.513691  11.591626   0.48936  \n",
      "min     0.134000  21.000000   0.00000  \n",
      "25%     0.198500  30.750000   0.00000  \n",
      "50%     0.374500  32.000000   1.00000  \n",
      "75%     0.560000  50.250000   1.00000  \n",
      "max     2.288000  59.000000   1.00000  \n"
     ]
    },
    {
     "data": {
      "image/png": "[encoded data removed]",
      "text/plain": [
       "<matplotlib.figure.Figure at 0x114dbe1d0>"
      ]
     },
     "metadata": {},
     "output_type": "display_data"
    }
   ],
   "source": [
    "df = pd.read_csv(\"pima-indians-diabetes.data-small-orig\", \n",
    "                 names = ['emb', 'gl2h', 'pad', 'ept', 'is2h', 'imc', 'fpd', 'edad', 'class'])\n",
    "\n",
    "print(df)\n",
    "print(df.describe())\n",
    "df.boxplot(column='gl2h')\n",
    "plt.show()"
   ]
  },
  {
   "cell_type": "code",
   "execution_count": 3,
   "metadata": {
    "collapsed": false
   },
   "outputs": [
    {
     "data": {
      "image/png": "[encoded data removed]",
      "text/plain": [
       "<matplotlib.figure.Figure at 0x104387c50>"
      ]
     },
     "metadata": {},
     "output_type": "display_data"
    }
   ],
   "source": [
    "df.boxplot()\n",
    "plt.show()"
   ]
  },
  {
   "cell_type": "markdown",
   "metadata": {},
   "source": [
    "Obsérvese que los datos en cero ejercen un efecto importante en el análisis. En el caso de la columna *is2h*, por ejemplo, con 11 valores faltantes puestos a cero, pareciera que ese es un valor *típico*. En estos casos es importanta realizar previamente el análisis para detectar valores faltantes expresados como 0. A continuación, realizamos el análisis con los datos después de hacer una imputación con la media."
   ]
  },
  {
   "cell_type": "code",
   "execution_count": 4,
   "metadata": {
    "collapsed": false
   },
   "outputs": [
    {
     "name": "stdout",
     "output_type": "stream",
     "text": [
      "            emb        gl2h        pad        ept        is2h        imc  \\\n",
      "count  20.00000   20.000000  20.000000  20.000000   20.000000  20.000000   \n",
      "mean    4.50000  129.400000  68.555556  32.363636  258.111111  32.578947   \n",
      "std     3.56149   35.354446  15.462083   6.450400  170.973511   6.335496   \n",
      "min     0.00000   78.000000  30.000000  19.000000   83.000000  23.300000   \n",
      "25%     1.00000  106.000000  65.500000  31.500000  173.250000  27.850000   \n",
      "50%     4.50000  117.000000  70.000000  32.363636  258.111111  30.750000   \n",
      "75%     7.25000  152.500000  74.000000  33.022727  258.111111  35.875000   \n",
      "max    10.00000  197.000000  96.000000  47.000000  846.000000  45.800000   \n",
      "\n",
      "             fpd       edad     class  \n",
      "count  20.000000  20.000000  20.00000  \n",
      "mean    0.511650  37.450000   0.65000  \n",
      "std     0.513691  11.591626   0.48936  \n",
      "min     0.134000  21.000000   0.00000  \n",
      "25%     0.198500  30.750000   0.00000  \n",
      "50%     0.374500  32.000000   1.00000  \n",
      "75%     0.560000  50.250000   1.00000  \n",
      "max     2.288000  59.000000   1.00000   \n",
      "\n",
      "    emb  gl2h        pad        ept        is2h        imc    fpd  edad  class\n",
      "0     6   148  72.000000  35.000000  258.111111  33.600000  0.627    50      1\n",
      "1     1    85  66.000000  29.000000  258.111111  26.600000  0.351    31      0\n",
      "2     8   183  64.000000  32.363636  258.111111  23.300000  0.672    32      1\n",
      "3     1    89  66.000000  23.000000   94.000000  28.100000  0.167    21      0\n",
      "4     0   137  40.000000  35.000000  168.000000  43.100000  2.288    33      1\n",
      "5     5   116  74.000000  32.363636  258.111111  25.600000  0.201    30      0\n",
      "6     3    78  50.000000  32.000000   88.000000  31.000000  0.248    26      1\n",
      "7    10   115  68.555556  32.363636  258.111111  35.300000  0.134    29      0\n",
      "8     2   197  70.000000  45.000000  543.000000  30.500000  0.158    53      1\n",
      "9     8   125  96.000000  32.363636  258.111111  32.578947  0.232    54      1\n",
      "10    4   110  92.000000  32.363636  258.111111  37.600000  0.191    30      0\n",
      "11   10   168  74.000000  32.363636  258.111111  38.000000  0.537    34      1\n",
      "12   10   139  80.000000  32.363636  258.111111  27.100000  1.441    57      0\n",
      "13    1   189  60.000000  23.000000  846.000000  30.100000  0.398    59      1\n",
      "14    5   166  72.000000  19.000000  175.000000  25.800000  0.587    51      1\n",
      "15    7   100  68.555556  32.363636  258.111111  30.000000  0.484    32      1\n",
      "16    0   118  84.000000  47.000000  230.000000  45.800000  0.551    31      1\n",
      "17    7   107  74.000000  32.363636  258.111111  29.600000  0.254    31      1\n",
      "18    1   103  30.000000  38.000000   83.000000  43.300000  0.183    33      0\n",
      "19    1   115  70.000000  30.000000   96.000000  34.600000  0.529    32      1\n"
     ]
    },
    {
     "data": {
      "image/png": "[encoded data removed]",
      "text/plain": [
       "<matplotlib.figure.Figure at 0x1177c5ba8>"
      ]
     },
     "metadata": {},
     "output_type": "display_data"
    }
   ],
   "source": [
    "df = pd.read_csv(\"pima-indians-diabetes.data-small\", \n",
    "                 names = ['emb', 'gl2h', 'pad', 'ept', 'is2h', 'imc', 'fpd', 'edad', 'class'])\n",
    "df2 = df.fillna(df.mean())\n",
    "print(df2.describe(), '\\n')\n",
    "print(df2)\n",
    "\n",
    "df2.boxplot()\n",
    "plt.show()"
   ]
  },
  {
   "cell_type": "markdown",
   "metadata": {},
   "source": [
    "Obsérvese que la columna *is2h* (Cantidad de insulina en suero en dos horas) sigue teniendo un comportamiento problemático. Aparentemente, hasyta donde podemos *adivinar* de los datos, 543 y 846 son valores atípicos. Sin embargo, con 11 valores faltantes (55%) es poco lo que se puede decir con certeza del comportamiento de estos datos."
   ]
  },
  {
   "cell_type": "markdown",
   "metadata": {},
   "source": [
    "\n",
    "<hr style=\"border-width: 3px;\">\n",
    "\n",
    "\n",
    "### Tarea 3\n",
    "\n",
    "Analice los problemas de valores atípicos en el conjunto de datos *Pima Indians Diabetes* completo. \n",
    "\n",
    "**Fecha de entrega**: Martes 6 de septiembre."
   ]
  }
 ],
 "metadata": {
  "celltoolbar": "Raw Cell Format",
  "kernelspec": {
   "display_name": "Python 3",
   "language": "python",
   "name": "python3"
  },
  "language_info": {
   "codemirror_mode": {
    "name": "ipython",
    "version": 3
   },
   "file_extension": ".py",
   "mimetype": "text/x-python",
   "name": "python",
   "nbconvert_exporter": "python",
   "pygments_lexer": "ipython3",
   "version": "3.5.1"
  }
 },
 "nbformat": 4,
 "nbformat_minor": 0
}
