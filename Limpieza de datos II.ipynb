{
 "cells": [
  {
   "cell_type": "markdown",
   "metadata": {},
   "source": [
    "# Reconocimiento de patrones: Preparación de datos\n",
    "### Ramón Soto C. [(rsotoc@moviquest.com)](mailto:rsotoc@moviquest.com/)\n",
    "![ ](images/blank.png)\n",
    "![agents](images/binary_data_under_a_magnifying.jpg)\n",
    "[ver en nbviewer](http://nbviewer.ipython.org/github/rsotoc/pattern-recognition/blob/master/Limpieza%20de%20datos%20II.ipynb)"
   ]
  },
  {
   "cell_type": "markdown",
   "metadata": {},
   "source": [
    "## Valores atípicos\n",
    "\n",
    "Un valor atípico es una observación que se ubica fuera del patrón general de distribución de los datos ([Mathworld](http://mathworld.wolfram.com/Outlier.html)). \n",
    "\n",
    "![](images/Outlier.png)\n",
    "![ ](images/blank.png)\n",
    "\n",
    "Los valores atípicos pueden deberse a diferentes causas, siendo las principales:\n",
    "* Casos que no se ajustan al modelo de estudio\n",
    "* Errores en la medición\n",
    "\n",
    "El tratamiento dado a los valores atípicos depende del origen de la inconsistencia. En el caso de errores en la medición pueden eliminarse o ajustarse (como en el caso de [valores faltantes](http://nbviewer.ipython.org/github/rsotoc/pattern-recognition/blob/master/Limpieza%20de%20datos%20I.ipynb)). Cuando la causa es que los casos no se ajustan al modelo utilizado pueden indicar la necesidad de replantear el modelo (incluyendo modificaciones a la teoría, como sucedía con el caso del movimiento anómalo de Mercurio). Sin embargo, también pueden representar casos singulares o excepcionales. En cualquier caso, es importante detectar estos valores, pues su presencia generan tendencias en el análisis global de los datos.\n",
    "\n",
    "Una forma común de analizar la presencia de valores atípicos es a través de los diagramas de caja (boxplots). El diagrama de caja es una descripción gráfica de la agrupación de los datos en base a sus cuartiles y tiene la siguiente estructura:\n",
    "\n",
    "[![ ](images/457px-Boxplot.svg.png)](https://es.wikipedia.org/wiki/Diagrama_de_caja)\n",
    "![ ](images/blank.png)\n",
    "\n",
    "El espaciado entre los componentes de una caja reflejan la dispersión y tendencias en los datos. La parte principal de esta representación es la propia caja. La tapa inferior corresponde al primer cuartil (Q1, el punto que separa el 25% de los datos inferiores), la línea intermedia refleja la mediana o segundo cuartil (Q2) y la tapa superior corresponde al tercer cuartil (Q3, el punto que delimita el 75% de los datos inferiores). RIC es el *rango inter cuartil* y es el 50% de los datos que quedan al centro del conjunto total de datos. Las líneas punteadas se denomina *bigotes* (*whiskers*); los extremos de los bigotes inferior y superior suelen seleccionarse como el menor dato que aún queda a una distancia máxima de 1.5 veces RIC por abajo de Q1 y el dato máximo a una distancia igual o menor de 1.5 RIC por arriba de Q3. \n",
    "\n",
    "Analizamos la submuesytra de datos de diabetes, en primera instancia para la variable '*gl2h*' y posteriormente para todo el conjunto, utilizando los datos con valores faltantes en cero."
   ]
  },
  {
   "cell_type": "code",
   "execution_count": 1,
   "metadata": {
    "collapsed": false
   },
   "outputs": [],
   "source": [
    "\"\"\"\n",
    "Reconocimiento de patrones: Valores atípicos\n",
    "\"\"\"\n",
    "\n",
    "import numpy as np\n",
    "import pandas as pd\n",
    "import os\n",
    "import matplotlib.pyplot as plt\n",
    "%matplotlib inline  \n",
    "\n",
    "import warnings # current version of seaborn generates a bunch of warnings that we'll ignore\n",
    "warnings.filterwarnings(\"ignore\")\n",
    "\n",
    "os.chdir('Data sets/Pima Indian Data Set')"
   ]
  },
  {
   "cell_type": "code",
   "execution_count": 2,
   "metadata": {
    "collapsed": false
   },
   "outputs": [
    {
     "name": "stdout",
     "output_type": "stream",
     "text": [
      "    emb  gl2h  pad  ept  is2h   imc    fpd  edad  class\n",
      "0     6   148   72   35     0  33.6  0.627    50      1\n",
      "1     1    85   66   29     0  26.6  0.351    31      0\n",
      "2     8   183   64    0     0  23.3  0.672    32      1\n",
      "3     1    89   66   23    94  28.1  0.167    21      0\n",
      "4     0   137   40   35   168  43.1  2.288    33      1\n",
      "5     5   116   74    0     0  25.6  0.201    30      0\n",
      "6     3    78   50   32    88  31.0  0.248    26      1\n",
      "7    10   115    0    0     0  35.3  0.134    29      0\n",
      "8     2   197   70   45   543  30.5  0.158    53      1\n",
      "9     8   125   96    0     0   0.0  0.232    54      1\n",
      "10    4   110   92    0     0  37.6  0.191    30      0\n",
      "11   10   168   74    0     0  38.0  0.537    34      1\n",
      "12   10   139   80    0     0  27.1  1.441    57      0\n",
      "13    1   189   60   23   846  30.1  0.398    59      1\n",
      "14    5   166   72   19   175  25.8  0.587    51      1\n",
      "15    7   100    0    0     0  30.0  0.484    32      1\n",
      "16    0   118   84   47   230  45.8  0.551    31      1\n",
      "17    7   107   74    0     0  29.6  0.254    31      1\n",
      "18    1   103   30   38    83  43.3  0.183    33      0\n",
      "19    1   115   70   30    96  34.6  0.529    32      1\n",
      "            emb        gl2h        pad        ept        is2h        imc  \\\n",
      "count  20.00000   20.000000  20.000000  20.000000   20.000000  20.000000   \n",
      "mean    4.50000  129.400000  61.700000  17.800000  116.150000  30.950000   \n",
      "std     3.56149   35.354446  26.159631  17.733703  215.843821   9.654424   \n",
      "min     0.00000   78.000000   0.000000   0.000000    0.000000   0.000000   \n",
      "25%     1.00000  106.000000  57.500000   0.000000    0.000000  26.975000   \n",
      "50%     4.50000  117.000000  70.000000  21.000000    0.000000  30.300000   \n",
      "75%     7.25000  152.500000  74.000000  32.750000  114.000000  35.875000   \n",
      "max    10.00000  197.000000  96.000000  47.000000  846.000000  45.800000   \n",
      "\n",
      "             fpd       edad     class  \n",
      "count  20.000000  20.000000  20.00000  \n",
      "mean    0.511650  37.450000   0.65000  \n",
      "std     0.513691  11.591626   0.48936  \n",
      "min     0.134000  21.000000   0.00000  \n",
      "25%     0.198500  30.750000   0.00000  \n",
      "50%     0.374500  32.000000   1.00000  \n",
      "75%     0.560000  50.250000   1.00000  \n",
      "max     2.288000  59.000000   1.00000  \n"
     ]
    },
    {
     "data": {
      "image/png": "[encoded data removed]",
      "text/plain": [
       "<matplotlib.figure.Figure at 0x114dbf0f0>"
      ]
     },
     "metadata": {},
     "output_type": "display_data"
    }
   ],
   "source": [
    "df = pd.read_csv(\"pima-indians-diabetes.data-small-orig\", \n",
    "                 names = ['emb', 'gl2h', 'pad', 'ept', 'is2h', 'imc', 'fpd', 'edad', 'class'])\n",
    "\n",
    "print(df)\n",
    "print(df.describe())\n",
    "df.boxplot(column='gl2h')\n",
    "plt.show()"
   ]
  },
  {
   "cell_type": "code",
   "execution_count": 3,
   "metadata": {
    "collapsed": false
   },
   "outputs": [
    {
     "data": {
      "image/png": "[encoded data removed]",
      "text/plain": [
       "<matplotlib.figure.Figure at 0x104258d68>"
      ]
     },
     "metadata": {},
     "output_type": "display_data"
    }
   ],
   "source": [
    "df.boxplot()\n",
    "plt.show()"
   ]
  },
  {
   "cell_type": "markdown",
   "metadata": {},
   "source": [
    "Obsérvese que los datos en cero ejercen un efecto importante en el análisis. En el caso de la columna *is2h*, por ejemplo, con 11 valores faltantes puestos a cero, pareciera que ese es un valor *típico*. En estos casos es importanta realizar previamente el análisis para detectar valores faltantes expresados como 0. A continuación, realizamos el análisis con los datos después de hacer una imputación con la media."
   ]
  },
  {
   "cell_type": "code",
   "execution_count": 4,
   "metadata": {
    "collapsed": false
   },
   "outputs": [
    {
     "name": "stdout",
     "output_type": "stream",
     "text": [
      "            emb        gl2h        pad        ept        is2h        imc  \\\n",
      "count  20.00000   20.000000  20.000000  20.000000   20.000000  20.000000   \n",
      "mean    4.50000  129.400000  68.555556  32.363636  258.111111  32.578947   \n",
      "std     3.56149   35.354446  15.462083   6.450400  170.973511   6.335496   \n",
      "min     0.00000   78.000000  30.000000  19.000000   83.000000  23.300000   \n",
      "25%     1.00000  106.000000  65.500000  31.500000  173.250000  27.850000   \n",
      "50%     4.50000  117.000000  70.000000  32.363636  258.111111  30.750000   \n",
      "75%     7.25000  152.500000  74.000000  33.022727  258.111111  35.875000   \n",
      "max    10.00000  197.000000  96.000000  47.000000  846.000000  45.800000   \n",
      "\n",
      "             fpd       edad     class  \n",
      "count  20.000000  20.000000  20.00000  \n",
      "mean    0.511650  37.450000   0.65000  \n",
      "std     0.513691  11.591626   0.48936  \n",
      "min     0.134000  21.000000   0.00000  \n",
      "25%     0.198500  30.750000   0.00000  \n",
      "50%     0.374500  32.000000   1.00000  \n",
      "75%     0.560000  50.250000   1.00000  \n",
      "max     2.288000  59.000000   1.00000   \n",
      "\n",
      "    emb  gl2h        pad        ept        is2h        imc    fpd  edad  class\n",
      "0     6   148  72.000000  35.000000  258.111111  33.600000  0.627    50      1\n",
      "1     1    85  66.000000  29.000000  258.111111  26.600000  0.351    31      0\n",
      "2     8   183  64.000000  32.363636  258.111111  23.300000  0.672    32      1\n",
      "3     1    89  66.000000  23.000000   94.000000  28.100000  0.167    21      0\n",
      "4     0   137  40.000000  35.000000  168.000000  43.100000  2.288    33      1\n",
      "5     5   116  74.000000  32.363636  258.111111  25.600000  0.201    30      0\n",
      "6     3    78  50.000000  32.000000   88.000000  31.000000  0.248    26      1\n",
      "7    10   115  68.555556  32.363636  258.111111  35.300000  0.134    29      0\n",
      "8     2   197  70.000000  45.000000  543.000000  30.500000  0.158    53      1\n",
      "9     8   125  96.000000  32.363636  258.111111  32.578947  0.232    54      1\n",
      "10    4   110  92.000000  32.363636  258.111111  37.600000  0.191    30      0\n",
      "11   10   168  74.000000  32.363636  258.111111  38.000000  0.537    34      1\n",
      "12   10   139  80.000000  32.363636  258.111111  27.100000  1.441    57      0\n",
      "13    1   189  60.000000  23.000000  846.000000  30.100000  0.398    59      1\n",
      "14    5   166  72.000000  19.000000  175.000000  25.800000  0.587    51      1\n",
      "15    7   100  68.555556  32.363636  258.111111  30.000000  0.484    32      1\n",
      "16    0   118  84.000000  47.000000  230.000000  45.800000  0.551    31      1\n",
      "17    7   107  74.000000  32.363636  258.111111  29.600000  0.254    31      1\n",
      "18    1   103  30.000000  38.000000   83.000000  43.300000  0.183    33      0\n",
      "19    1   115  70.000000  30.000000   96.000000  34.600000  0.529    32      1\n"
     ]
    },
    {
     "data": {
      "image/png": "[encoded data removed]",
      "text/plain": [
       "<matplotlib.figure.Figure at 0x11774fc18>"
      ]
     },
     "metadata": {},
     "output_type": "display_data"
    }
   ],
   "source": [
    "df = pd.read_csv(\"pima-indians-diabetes.data-small\", \n",
    "                 names = ['emb', 'gl2h', 'pad', 'ept', 'is2h', 'imc', 'fpd', 'edad', 'class'])\n",
    "df2 = df.fillna(df.mean())\n",
    "print(df2.describe(), '\\n')\n",
    "print(df2)\n",
    "\n",
    "df2.boxplot()\n",
    "plt.show()"
   ]
  },
  {
   "cell_type": "markdown",
   "metadata": {},
   "source": [
    "Obsérvese que la columna *is2h* (Cantidad de insulina en suero en dos horas) sigue teniendo un comportamiento problemático. Aparentemente, hasyta donde podemos *adivinar* de los datos, 543 y 846 son valores atípicos. Sin embargo, con 11 valores faltantes (55%) es poco lo que se puede decir con certeza del comportamiento de estos datos.\n",
    "\n",
    "\n",
    "\n",
    "## Valores inconsistentes\n",
    "\n",
    "Una inconsistencia se define como la \"falta de estabilidad y coherencia en una cosa\". Un elemento inconsistente en un sistema es algo que no pertenece al sistema. Un valor inconsistente es un valor \"extraño\" al conjunto de datos (no atípico).\n",
    "\n",
    "Una inconsistencia obvia es un valor o combinación de valores que no puede ocurrir en un contexto real: edad negativa, promedio de egreso de preparatoria menor a 60/100 (en México), (sexo=masculino, estado=embarazo), etc.\n",
    "\n",
    "La detección de valores inconsistentes en un conjunto de datos es particularmente difícil. El conocimiento en el que se basa este proceso debe codificarse en forma de restricciones o reglas de edición. Una forma común de optimizar este proceso es a través de expresiones regulares.\n",
    "\n",
    "\n",
    "\n",
    "## Inspección de los datos\n",
    "\n",
    "En muchos casos, la limpieza de los datos debe hacerse de forma semi-manual (de ahí la cantidad de tiempo que ocupa esa actividad). El análisis estadístico puede ofrecer indicadores de cómo atacar los problemas. \n",
    "\n",
    "El método *describe*() de DataFrame ya arroja alguna información, particularmente la desviación estándar que también podemos obtener con el método *std*():"
   ]
  },
  {
   "cell_type": "code",
   "execution_count": 5,
   "metadata": {
    "collapsed": false
   },
   "outputs": [
    {
     "name": "stdout",
     "output_type": "stream",
     "text": [
      "            emb        gl2h        pad        ept        is2h        imc  \\\n",
      "count  20.00000   20.000000  18.000000  11.000000    9.000000  19.000000   \n",
      "mean    4.50000  129.400000  68.555556  32.363636  258.111111  32.578947   \n",
      "std     3.56149   35.354446  16.346333   8.891262  263.487877   6.509103   \n",
      "min     0.00000   78.000000  30.000000  19.000000   83.000000  23.300000   \n",
      "25%     1.00000  106.000000  64.500000  26.000000   94.000000  27.600000   \n",
      "50%     4.50000  117.000000  71.000000  32.000000  168.000000  30.500000   \n",
      "75%     7.25000  152.500000  74.000000  36.500000  230.000000  36.450000   \n",
      "max    10.00000  197.000000  96.000000  47.000000  846.000000  45.800000   \n",
      "\n",
      "             fpd       edad     class  \n",
      "count  20.000000  20.000000  20.00000  \n",
      "mean    0.511650  37.450000   0.65000  \n",
      "std     0.513691  11.591626   0.48936  \n",
      "min     0.134000  21.000000   0.00000  \n",
      "25%     0.198500  30.750000   0.00000  \n",
      "50%     0.374500  32.000000   1.00000  \n",
      "75%     0.560000  50.250000   1.00000  \n",
      "max     2.288000  59.000000   1.00000   \n",
      "\n",
      " emb        3.561490\n",
      "gl2h      35.354446\n",
      "pad       16.346333\n",
      "ept        8.891262\n",
      "is2h     263.487877\n",
      "imc        6.509103\n",
      "fpd        0.513691\n",
      "edad      11.591626\n",
      "class      0.489360\n",
      "dtype: float64\n"
     ]
    }
   ],
   "source": [
    "print(df.describe(), '\\n\\n',df.std())"
   ]
  },
  {
   "cell_type": "markdown",
   "metadata": {},
   "source": [
    "Una forma de medir el grado de variación conjunta de dos variables aleatorias es a través de la *covarianza*. Mientras mayor es el valor de covarianza mayor es la dependencia entre ambas variables."
   ]
  },
  {
   "cell_type": "code",
   "execution_count": 6,
   "metadata": {
    "collapsed": false
   },
   "outputs": [
    {
     "data": {
      "text/html": [
       "<div>\n",
       "<table border=\"1\" class=\"dataframe\">\n",
       "  <thead>\n",
       "    <tr style=\"text-align: right;\">\n",
       "      <th></th>\n",
       "      <th>emb</th>\n",
       "      <th>gl2h</th>\n",
       "      <th>pad</th>\n",
       "      <th>ept</th>\n",
       "      <th>is2h</th>\n",
       "      <th>imc</th>\n",
       "      <th>fpd</th>\n",
       "      <th>edad</th>\n",
       "      <th>class</th>\n",
       "    </tr>\n",
       "  </thead>\n",
       "  <tbody>\n",
       "    <tr>\n",
       "      <th>emb</th>\n",
       "      <td>12.684211</td>\n",
       "      <td>22.842105</td>\n",
       "      <td>26.202614</td>\n",
       "      <td>-4.563636</td>\n",
       "      <td>-33.694444</td>\n",
       "      <td>-7.676316</td>\n",
       "      <td>-0.072447</td>\n",
       "      <td>7.552632</td>\n",
       "      <td>-0.026316</td>\n",
       "    </tr>\n",
       "    <tr>\n",
       "      <th>gl2h</th>\n",
       "      <td>22.842105</td>\n",
       "      <td>1249.936842</td>\n",
       "      <td>50.450980</td>\n",
       "      <td>14.081818</td>\n",
       "      <td>9152.694444</td>\n",
       "      <td>-34.108187</td>\n",
       "      <td>3.812674</td>\n",
       "      <td>273.705263</td>\n",
       "      <td>7.831579</td>\n",
       "    </tr>\n",
       "    <tr>\n",
       "      <th>pad</th>\n",
       "      <td>26.202614</td>\n",
       "      <td>50.450980</td>\n",
       "      <td>267.202614</td>\n",
       "      <td>3.072727</td>\n",
       "      <td>915.972222</td>\n",
       "      <td>-23.745588</td>\n",
       "      <td>-2.256569</td>\n",
       "      <td>48.457516</td>\n",
       "      <td>0.196078</td>\n",
       "    </tr>\n",
       "    <tr>\n",
       "      <th>ept</th>\n",
       "      <td>-4.563636</td>\n",
       "      <td>14.081818</td>\n",
       "      <td>3.072727</td>\n",
       "      <td>79.054545</td>\n",
       "      <td>-56.055556</td>\n",
       "      <td>42.974545</td>\n",
       "      <td>0.312155</td>\n",
       "      <td>-9.172727</td>\n",
       "      <td>0.709091</td>\n",
       "    </tr>\n",
       "    <tr>\n",
       "      <th>is2h</th>\n",
       "      <td>-33.694444</td>\n",
       "      <td>9152.694444</td>\n",
       "      <td>915.972222</td>\n",
       "      <td>-56.055556</td>\n",
       "      <td>69425.861111</td>\n",
       "      <td>-500.912500</td>\n",
       "      <td>-22.356708</td>\n",
       "      <td>2858.166667</td>\n",
       "      <td>42.402778</td>\n",
       "    </tr>\n",
       "    <tr>\n",
       "      <th>imc</th>\n",
       "      <td>-7.676316</td>\n",
       "      <td>-34.108187</td>\n",
       "      <td>-23.745588</td>\n",
       "      <td>42.974545</td>\n",
       "      <td>-500.912500</td>\n",
       "      <td>42.368421</td>\n",
       "      <td>0.732903</td>\n",
       "      <td>-15.314912</td>\n",
       "      <td>0.247368</td>\n",
       "    </tr>\n",
       "    <tr>\n",
       "      <th>fpd</th>\n",
       "      <td>-0.072447</td>\n",
       "      <td>3.812674</td>\n",
       "      <td>-2.256569</td>\n",
       "      <td>0.312155</td>\n",
       "      <td>-22.356708</td>\n",
       "      <td>0.732903</td>\n",
       "      <td>0.263878</td>\n",
       "      <td>1.038955</td>\n",
       "      <td>0.048082</td>\n",
       "    </tr>\n",
       "    <tr>\n",
       "      <th>edad</th>\n",
       "      <td>7.552632</td>\n",
       "      <td>273.705263</td>\n",
       "      <td>48.457516</td>\n",
       "      <td>-9.172727</td>\n",
       "      <td>2858.166667</td>\n",
       "      <td>-15.314912</td>\n",
       "      <td>1.038955</td>\n",
       "      <td>134.365789</td>\n",
       "      <td>1.639474</td>\n",
       "    </tr>\n",
       "    <tr>\n",
       "      <th>class</th>\n",
       "      <td>-0.026316</td>\n",
       "      <td>7.831579</td>\n",
       "      <td>0.196078</td>\n",
       "      <td>0.709091</td>\n",
       "      <td>42.402778</td>\n",
       "      <td>0.247368</td>\n",
       "      <td>0.048082</td>\n",
       "      <td>1.639474</td>\n",
       "      <td>0.239474</td>\n",
       "    </tr>\n",
       "  </tbody>\n",
       "</table>\n",
       "</div>"
      ],
      "text/plain": [
       "             emb         gl2h         pad        ept          is2h  \\\n",
       "emb    12.684211    22.842105   26.202614  -4.563636    -33.694444   \n",
       "gl2h   22.842105  1249.936842   50.450980  14.081818   9152.694444   \n",
       "pad    26.202614    50.450980  267.202614   3.072727    915.972222   \n",
       "ept    -4.563636    14.081818    3.072727  79.054545    -56.055556   \n",
       "is2h  -33.694444  9152.694444  915.972222 -56.055556  69425.861111   \n",
       "imc    -7.676316   -34.108187  -23.745588  42.974545   -500.912500   \n",
       "fpd    -0.072447     3.812674   -2.256569   0.312155    -22.356708   \n",
       "edad    7.552632   273.705263   48.457516  -9.172727   2858.166667   \n",
       "class  -0.026316     7.831579    0.196078   0.709091     42.402778   \n",
       "\n",
       "              imc        fpd         edad      class  \n",
       "emb     -7.676316  -0.072447     7.552632  -0.026316  \n",
       "gl2h   -34.108187   3.812674   273.705263   7.831579  \n",
       "pad    -23.745588  -2.256569    48.457516   0.196078  \n",
       "ept     42.974545   0.312155    -9.172727   0.709091  \n",
       "is2h  -500.912500 -22.356708  2858.166667  42.402778  \n",
       "imc     42.368421   0.732903   -15.314912   0.247368  \n",
       "fpd      0.732903   0.263878     1.038955   0.048082  \n",
       "edad   -15.314912   1.038955   134.365789   1.639474  \n",
       "class    0.247368   0.048082     1.639474   0.239474  "
      ]
     },
     "execution_count": 6,
     "metadata": {},
     "output_type": "execute_result"
    }
   ],
   "source": [
    "df.cov()"
   ]
  },
  {
   "cell_type": "markdown",
   "metadata": {},
   "source": [
    "Sin embargo, los valores de la covarianza suelen ser difíciles de interpretar. Una media alternativa, normalizada, es la *correlación lineal*:"
   ]
  },
  {
   "cell_type": "code",
   "execution_count": 7,
   "metadata": {
    "collapsed": false
   },
   "outputs": [
    {
     "data": {
      "text/html": [
       "<div>\n",
       "<table border=\"1\" class=\"dataframe\">\n",
       "  <thead>\n",
       "    <tr style=\"text-align: right;\">\n",
       "      <th></th>\n",
       "      <th>emb</th>\n",
       "      <th>gl2h</th>\n",
       "      <th>pad</th>\n",
       "      <th>ept</th>\n",
       "      <th>is2h</th>\n",
       "      <th>imc</th>\n",
       "      <th>fpd</th>\n",
       "      <th>edad</th>\n",
       "      <th>class</th>\n",
       "    </tr>\n",
       "  </thead>\n",
       "  <tbody>\n",
       "    <tr>\n",
       "      <th>emb</th>\n",
       "      <td>1.000000</td>\n",
       "      <td>0.181410</td>\n",
       "      <td>0.466241</td>\n",
       "      <td>-0.260209</td>\n",
       "      <td>-0.080432</td>\n",
       "      <td>-0.331284</td>\n",
       "      <td>-0.039599</td>\n",
       "      <td>0.182946</td>\n",
       "      <td>-0.015099</td>\n",
       "    </tr>\n",
       "    <tr>\n",
       "      <th>gl2h</th>\n",
       "      <td>0.181410</td>\n",
       "      <td>1.000000</td>\n",
       "      <td>0.084704</td>\n",
       "      <td>0.038250</td>\n",
       "      <td>0.809138</td>\n",
       "      <td>-0.144324</td>\n",
       "      <td>0.209934</td>\n",
       "      <td>0.667874</td>\n",
       "      <td>0.452664</td>\n",
       "    </tr>\n",
       "    <tr>\n",
       "      <th>pad</th>\n",
       "      <td>0.466241</td>\n",
       "      <td>0.084704</td>\n",
       "      <td>1.000000</td>\n",
       "      <td>0.021859</td>\n",
       "      <td>0.202591</td>\n",
       "      <td>-0.226915</td>\n",
       "      <td>-0.258156</td>\n",
       "      <td>0.247384</td>\n",
       "      <td>0.024729</td>\n",
       "    </tr>\n",
       "    <tr>\n",
       "      <th>ept</th>\n",
       "      <td>-0.260209</td>\n",
       "      <td>0.038250</td>\n",
       "      <td>0.021859</td>\n",
       "      <td>1.000000</td>\n",
       "      <td>-0.021654</td>\n",
       "      <td>0.682090</td>\n",
       "      <td>0.058374</td>\n",
       "      <td>-0.081671</td>\n",
       "      <td>0.170738</td>\n",
       "    </tr>\n",
       "    <tr>\n",
       "      <th>is2h</th>\n",
       "      <td>-0.080432</td>\n",
       "      <td>0.809138</td>\n",
       "      <td>0.202591</td>\n",
       "      <td>-0.021654</td>\n",
       "      <td>1.000000</td>\n",
       "      <td>-0.255473</td>\n",
       "      <td>-0.127034</td>\n",
       "      <td>0.819404</td>\n",
       "      <td>0.364952</td>\n",
       "    </tr>\n",
       "    <tr>\n",
       "      <th>imc</th>\n",
       "      <td>-0.331284</td>\n",
       "      <td>-0.144324</td>\n",
       "      <td>-0.226915</td>\n",
       "      <td>0.682090</td>\n",
       "      <td>-0.255473</td>\n",
       "      <td>1.000000</td>\n",
       "      <td>0.215118</td>\n",
       "      <td>-0.209764</td>\n",
       "      <td>0.076683</td>\n",
       "    </tr>\n",
       "    <tr>\n",
       "      <th>fpd</th>\n",
       "      <td>-0.039599</td>\n",
       "      <td>0.209934</td>\n",
       "      <td>-0.258156</td>\n",
       "      <td>0.058374</td>\n",
       "      <td>-0.127034</td>\n",
       "      <td>0.215118</td>\n",
       "      <td>1.000000</td>\n",
       "      <td>0.174482</td>\n",
       "      <td>0.191270</td>\n",
       "    </tr>\n",
       "    <tr>\n",
       "      <th>edad</th>\n",
       "      <td>0.182946</td>\n",
       "      <td>0.667874</td>\n",
       "      <td>0.247384</td>\n",
       "      <td>-0.081671</td>\n",
       "      <td>0.819404</td>\n",
       "      <td>-0.209764</td>\n",
       "      <td>0.174482</td>\n",
       "      <td>1.000000</td>\n",
       "      <td>0.289022</td>\n",
       "    </tr>\n",
       "    <tr>\n",
       "      <th>class</th>\n",
       "      <td>-0.015099</td>\n",
       "      <td>0.452664</td>\n",
       "      <td>0.024729</td>\n",
       "      <td>0.170738</td>\n",
       "      <td>0.364952</td>\n",
       "      <td>0.076683</td>\n",
       "      <td>0.191270</td>\n",
       "      <td>0.289022</td>\n",
       "      <td>1.000000</td>\n",
       "    </tr>\n",
       "  </tbody>\n",
       "</table>\n",
       "</div>"
      ],
      "text/plain": [
       "            emb      gl2h       pad       ept      is2h       imc       fpd  \\\n",
       "emb    1.000000  0.181410  0.466241 -0.260209 -0.080432 -0.331284 -0.039599   \n",
       "gl2h   0.181410  1.000000  0.084704  0.038250  0.809138 -0.144324  0.209934   \n",
       "pad    0.466241  0.084704  1.000000  0.021859  0.202591 -0.226915 -0.258156   \n",
       "ept   -0.260209  0.038250  0.021859  1.000000 -0.021654  0.682090  0.058374   \n",
       "is2h  -0.080432  0.809138  0.202591 -0.021654  1.000000 -0.255473 -0.127034   \n",
       "imc   -0.331284 -0.144324 -0.226915  0.682090 -0.255473  1.000000  0.215118   \n",
       "fpd   -0.039599  0.209934 -0.258156  0.058374 -0.127034  0.215118  1.000000   \n",
       "edad   0.182946  0.667874  0.247384 -0.081671  0.819404 -0.209764  0.174482   \n",
       "class -0.015099  0.452664  0.024729  0.170738  0.364952  0.076683  0.191270   \n",
       "\n",
       "           edad     class  \n",
       "emb    0.182946 -0.015099  \n",
       "gl2h   0.667874  0.452664  \n",
       "pad    0.247384  0.024729  \n",
       "ept   -0.081671  0.170738  \n",
       "is2h   0.819404  0.364952  \n",
       "imc   -0.209764  0.076683  \n",
       "fpd    0.174482  0.191270  \n",
       "edad   1.000000  0.289022  \n",
       "class  0.289022  1.000000  "
      ]
     },
     "execution_count": 7,
     "metadata": {},
     "output_type": "execute_result"
    }
   ],
   "source": [
    "df.corr()"
   ]
  },
  {
   "cell_type": "markdown",
   "metadata": {},
   "source": [
    "\n",
    "<hr style=\"border-width: 3px;\">\n",
    "\n",
    "\n",
    "### Tarea 3\n",
    "\n",
    "* Analice los problemas de valores atípicos en el conjunto de datos *Pima Indians Diabetes* completo.\n",
    "\n",
    "* Analice los problemas de valores faltantes y valores atípicos en los datos del ejemplo 2 (Rendimiento de combustible) y del ejemplo 3 (Taxonomís de flores).\n",
    "\n",
    "\n",
    "**Fecha de entrega**: Martes 6 de septiembre."
   ]
  },
  {
   "cell_type": "code",
   "execution_count": 5,
   "metadata": {
    "collapsed": false
   },
   "outputs": [
    {
     "data": {
      "image/png": "[encoded data removed]",
      "text/plain": [
       "<matplotlib.figure.Figure at 0x2646b9289b0>"
      ]
     },
     "metadata": {},
     "output_type": "display_data"
    }
   ],
   "source": [
    "import numpy as np\n",
    "import pandas as pd\n",
    "import os\n",
    "import matplotlib.pyplot as plt\n",
    "%matplotlib inline  \n",
    "\n",
    "import warnings # current version of seaborn generates a bunch of warnings that we'll ignore\n",
    "warnings.filterwarnings(\"ignore\")\n",
    "\n",
    "os.chdir('C:/Users/RubenDario/Documents/Reconocimiento de Patrones/pattern-recognition/Data sets/Pima Indian Data Set')\n",
    "\n",
    "df = pd.read_csv(\"pima-indians-diabetes.data\", \n",
    "                 names = ['emb', 'gl2h', 'pad', 'ept', 'is2h', 'imc', 'fpd', 'edad', 'class'])\n",
    "\n",
    "df.boxplot()\n",
    "plt.show()"
   ]
  },
  {
   "cell_type": "code",
   "execution_count": null,
   "metadata": {
    "collapsed": true
   },
   "outputs": [],
   "source": [
    "\"\"\"\n",
    "Aqui podemos ver que los que muestran datos atipicos son las columnas pad, ept, is2h, imd y edad.\n",
    "\"\"\""
   ]
  },
  {
   "cell_type": "code",
   "execution_count": 8,
   "metadata": {
    "collapsed": false
   },
   "outputs": [
    {
     "data": {
      "image/png": "[encoded data removed]",
      "text/plain": [
       "<matplotlib.figure.Figure at 0x2646b7dde10>"
      ]
     },
     "metadata": {},
     "output_type": "display_data"
    }
   ],
   "source": [
    "df.boxplot(column='pad')\n",
    "plt.show()"
   ]
  },
  {
   "cell_type": "code",
   "execution_count": null,
   "metadata": {
    "collapsed": true
   },
   "outputs": [],
   "source": [
    "\"\"\"\n",
    "Esta grafica muestra los datos de la columna pad.\n",
    "En esta grafica podemos ver que hay varios valores atipicos tanto por encima como debajo de la caja.\n",
    "No se nota exactamente cuantos sean pero se nota que los datos atipicos son mayores en el extremo superior.\n",
    "No son demasiados si tomamos en cuenta que son 768 datos en total.\n",
    "\"\"\""
   ]
  },
  {
   "cell_type": "code",
   "execution_count": 9,
   "metadata": {
    "collapsed": false
   },
   "outputs": [
    {
     "data": {
      "image/png": "[encoded data removed]",
      "text/plain": [
       "<matplotlib.figure.Figure at 0x2646b7fa320>"
      ]
     },
     "metadata": {},
     "output_type": "display_data"
    }
   ],
   "source": [
    "df.boxplot(column='ept')\n",
    "plt.show()"
   ]
  },
  {
   "cell_type": "code",
   "execution_count": null,
   "metadata": {
    "collapsed": true
   },
   "outputs": [],
   "source": [
    "\"\"\"\n",
    "Esta grafica muestra los datos de la columna ept.\n",
    "Nadamas tiene un valor atipico el cual esta muy por encima del resto de valores.\n",
    "Seguramente no habria problema en eliminar o normalizar el dato. Incluso dejandolo como esta seguramente no va a \n",
    "afectar mucho los datos.\n",
    "\"\"\""
   ]
  },
  {
   "cell_type": "code",
   "execution_count": 10,
   "metadata": {
    "collapsed": false
   },
   "outputs": [
    {
     "data": {
      "image/png": "[encoded data removed]",
      "text/plain": [
       "<matplotlib.figure.Figure at 0x2646b872c88>"
      ]
     },
     "metadata": {},
     "output_type": "display_data"
    }
   ],
   "source": [
    "df.boxplot(column='imc')\n",
    "plt.show()"
   ]
  },
  {
   "cell_type": "code",
   "execution_count": null,
   "metadata": {
    "collapsed": true
   },
   "outputs": [],
   "source": [
    "\"\"\"\n",
    "Esta grafica muestra los datos de la columna imc.\n",
    "En esta columna podemos ver como hay bastantes datos atipicos en el extremo superior de la grafica.\n",
    "En este seguramente seria necesario normalizar los datos para amortiguar tantos datos atipicos.\n",
    "\"\"\""
   ]
  },
  {
   "cell_type": "code",
   "execution_count": 11,
   "metadata": {
    "collapsed": false
   },
   "outputs": [
    {
     "data": {
      "image/png": "[encoded data removed]",
      "text/plain": [
       "<matplotlib.figure.Figure at 0x2646b89ae48>"
      ]
     },
     "metadata": {},
     "output_type": "display_data"
    }
   ],
   "source": [
    "df.boxplot(column='edad')\n",
    "plt.show()"
   ]
  },
  {
   "cell_type": "code",
   "execution_count": null,
   "metadata": {
    "collapsed": true
   },
   "outputs": [],
   "source": [
    "\"\"\"\n",
    "Esta grafica muestra los datos de la columna edad.\n",
    "En la edad aparecen varios valores atipicos, pero ningun dato que sea poco creible, 81 años es una edad posible.\n",
    "Yo no alteraria los datos de esta columna.\n",
    "\"\"\""
   ]
  },
  {
   "cell_type": "code",
   "execution_count": 12,
   "metadata": {
    "collapsed": false
   },
   "outputs": [
    {
     "data": {
      "image/png": "[encoded data removed]",
      "text/plain": [
       "<matplotlib.figure.Figure at 0x2646b6849b0>"
      ]
     },
     "metadata": {},
     "output_type": "display_data"
    }
   ],
   "source": [
    "df.boxplot(column='is2h')\n",
    "plt.show()"
   ]
  },
  {
   "cell_type": "code",
   "execution_count": null,
   "metadata": {
    "collapsed": true
   },
   "outputs": [],
   "source": [
    "\"\"\"\n",
    "Esta grafica muestra los datos de la columna is2h.\n",
    "Esta columna tiene muchos datos atipicos, pero seguramente es por los datos que valen 0, los cuales no pueden ser,\n",
    "si tuvieramos esos datos correctos seguramente subiria bastante la grafica, y los datos atipicos serian mucho menos,\n",
    "aunque se nota que a partit de 550 desminuye mucho la frecuencia de los datos, seguramente por ahi estaria el limite superior.\n",
    "\"\"\""
   ]
  },
  {
   "cell_type": "code",
   "execution_count": 22,
   "metadata": {
    "collapsed": false
   },
   "outputs": [
    {
     "data": {
      "text/html": [
       "<div>\n",
       "<table border=\"1\" class=\"dataframe\">\n",
       "  <thead>\n",
       "    <tr style=\"text-align: right;\">\n",
       "      <th></th>\n",
       "      <th>cyl</th>\n",
       "      <th>dis</th>\n",
       "      <th>hp</th>\n",
       "      <th>weig</th>\n",
       "      <th>acc</th>\n",
       "      <th>year</th>\n",
       "      <th>orig</th>\n",
       "      <th>name</th>\n",
       "    </tr>\n",
       "  </thead>\n",
       "  <tbody>\n",
       "    <tr>\n",
       "      <th>count</th>\n",
       "      <td>0.0</td>\n",
       "      <td>0.0</td>\n",
       "      <td>0.0</td>\n",
       "      <td>0.0</td>\n",
       "      <td>0.0</td>\n",
       "      <td>0.0</td>\n",
       "      <td>0.0</td>\n",
       "      <td>0.0</td>\n",
       "    </tr>\n",
       "    <tr>\n",
       "      <th>mean</th>\n",
       "      <td>NaN</td>\n",
       "      <td>NaN</td>\n",
       "      <td>NaN</td>\n",
       "      <td>NaN</td>\n",
       "      <td>NaN</td>\n",
       "      <td>NaN</td>\n",
       "      <td>NaN</td>\n",
       "      <td>NaN</td>\n",
       "    </tr>\n",
       "    <tr>\n",
       "      <th>std</th>\n",
       "      <td>NaN</td>\n",
       "      <td>NaN</td>\n",
       "      <td>NaN</td>\n",
       "      <td>NaN</td>\n",
       "      <td>NaN</td>\n",
       "      <td>NaN</td>\n",
       "      <td>NaN</td>\n",
       "      <td>NaN</td>\n",
       "    </tr>\n",
       "    <tr>\n",
       "      <th>min</th>\n",
       "      <td>NaN</td>\n",
       "      <td>NaN</td>\n",
       "      <td>NaN</td>\n",
       "      <td>NaN</td>\n",
       "      <td>NaN</td>\n",
       "      <td>NaN</td>\n",
       "      <td>NaN</td>\n",
       "      <td>NaN</td>\n",
       "    </tr>\n",
       "    <tr>\n",
       "      <th>25%</th>\n",
       "      <td>NaN</td>\n",
       "      <td>NaN</td>\n",
       "      <td>NaN</td>\n",
       "      <td>NaN</td>\n",
       "      <td>NaN</td>\n",
       "      <td>NaN</td>\n",
       "      <td>NaN</td>\n",
       "      <td>NaN</td>\n",
       "    </tr>\n",
       "    <tr>\n",
       "      <th>50%</th>\n",
       "      <td>NaN</td>\n",
       "      <td>NaN</td>\n",
       "      <td>NaN</td>\n",
       "      <td>NaN</td>\n",
       "      <td>NaN</td>\n",
       "      <td>NaN</td>\n",
       "      <td>NaN</td>\n",
       "      <td>NaN</td>\n",
       "    </tr>\n",
       "    <tr>\n",
       "      <th>75%</th>\n",
       "      <td>NaN</td>\n",
       "      <td>NaN</td>\n",
       "      <td>NaN</td>\n",
       "      <td>NaN</td>\n",
       "      <td>NaN</td>\n",
       "      <td>NaN</td>\n",
       "      <td>NaN</td>\n",
       "      <td>NaN</td>\n",
       "    </tr>\n",
       "    <tr>\n",
       "      <th>max</th>\n",
       "      <td>NaN</td>\n",
       "      <td>NaN</td>\n",
       "      <td>NaN</td>\n",
       "      <td>NaN</td>\n",
       "      <td>NaN</td>\n",
       "      <td>NaN</td>\n",
       "      <td>NaN</td>\n",
       "      <td>NaN</td>\n",
       "    </tr>\n",
       "  </tbody>\n",
       "</table>\n",
       "</div>"
      ],
      "text/plain": [
       "       cyl  dis   hp  weig  acc  year  orig  name\n",
       "count  0.0  0.0  0.0   0.0  0.0   0.0   0.0   0.0\n",
       "mean   NaN  NaN  NaN   NaN  NaN   NaN   NaN   NaN\n",
       "std    NaN  NaN  NaN   NaN  NaN   NaN   NaN   NaN\n",
       "min    NaN  NaN  NaN   NaN  NaN   NaN   NaN   NaN\n",
       "25%    NaN  NaN  NaN   NaN  NaN   NaN   NaN   NaN\n",
       "50%    NaN  NaN  NaN   NaN  NaN   NaN   NaN   NaN\n",
       "75%    NaN  NaN  NaN   NaN  NaN   NaN   NaN   NaN\n",
       "max    NaN  NaN  NaN   NaN  NaN   NaN   NaN   NaN"
      ]
     },
     "execution_count": 22,
     "metadata": {},
     "output_type": "execute_result"
    }
   ],
   "source": [
    "os.chdir('C:/Users/RubenDario/Documents/Reconocimiento de Patrones/pattern-recognition/Data sets/Auto MPG Data Set')\n",
    "\n",
    "df = pd.read_csv(\"auto-mpg.data\", \n",
    "                 names = ['mpg', 'cyl', 'dis','hp','weig','acc','year','orig','name'])\n",
    "\n",
    "df.describe()"
   ]
  },
  {
   "cell_type": "code",
   "execution_count": 28,
   "metadata": {
    "collapsed": false
   },
   "outputs": [
    {
     "data": {
      "text/html": [
       "<div>\n",
       "<table border=\"1\" class=\"dataframe\">\n",
       "  <thead>\n",
       "    <tr style=\"text-align: right;\">\n",
       "      <th></th>\n",
       "      <th>slen</th>\n",
       "      <th>swid</th>\n",
       "      <th>plen</th>\n",
       "      <th>pwid</th>\n",
       "    </tr>\n",
       "  </thead>\n",
       "  <tbody>\n",
       "    <tr>\n",
       "      <th>count</th>\n",
       "      <td>150.000000</td>\n",
       "      <td>150.000000</td>\n",
       "      <td>150.000000</td>\n",
       "      <td>150.000000</td>\n",
       "    </tr>\n",
       "    <tr>\n",
       "      <th>mean</th>\n",
       "      <td>5.843333</td>\n",
       "      <td>3.054000</td>\n",
       "      <td>3.758667</td>\n",
       "      <td>1.198667</td>\n",
       "    </tr>\n",
       "    <tr>\n",
       "      <th>std</th>\n",
       "      <td>0.828066</td>\n",
       "      <td>0.433594</td>\n",
       "      <td>1.764420</td>\n",
       "      <td>0.763161</td>\n",
       "    </tr>\n",
       "    <tr>\n",
       "      <th>min</th>\n",
       "      <td>4.300000</td>\n",
       "      <td>2.000000</td>\n",
       "      <td>1.000000</td>\n",
       "      <td>0.100000</td>\n",
       "    </tr>\n",
       "    <tr>\n",
       "      <th>25%</th>\n",
       "      <td>5.100000</td>\n",
       "      <td>2.800000</td>\n",
       "      <td>1.600000</td>\n",
       "      <td>0.300000</td>\n",
       "    </tr>\n",
       "    <tr>\n",
       "      <th>50%</th>\n",
       "      <td>5.800000</td>\n",
       "      <td>3.000000</td>\n",
       "      <td>4.350000</td>\n",
       "      <td>1.300000</td>\n",
       "    </tr>\n",
       "    <tr>\n",
       "      <th>75%</th>\n",
       "      <td>6.400000</td>\n",
       "      <td>3.300000</td>\n",
       "      <td>5.100000</td>\n",
       "      <td>1.800000</td>\n",
       "    </tr>\n",
       "    <tr>\n",
       "      <th>max</th>\n",
       "      <td>7.900000</td>\n",
       "      <td>4.400000</td>\n",
       "      <td>6.900000</td>\n",
       "      <td>2.500000</td>\n",
       "    </tr>\n",
       "  </tbody>\n",
       "</table>\n",
       "</div>"
      ],
      "text/plain": [
       "             slen        swid        plen        pwid\n",
       "count  150.000000  150.000000  150.000000  150.000000\n",
       "mean     5.843333    3.054000    3.758667    1.198667\n",
       "std      0.828066    0.433594    1.764420    0.763161\n",
       "min      4.300000    2.000000    1.000000    0.100000\n",
       "25%      5.100000    2.800000    1.600000    0.300000\n",
       "50%      5.800000    3.000000    4.350000    1.300000\n",
       "75%      6.400000    3.300000    5.100000    1.800000\n",
       "max      7.900000    4.400000    6.900000    2.500000"
      ]
     },
     "execution_count": 28,
     "metadata": {},
     "output_type": "execute_result"
    }
   ],
   "source": [
    "os.chdir('C:/Users/RubenDario/Documents/Reconocimiento de Patrones/pattern-recognition/Data sets/Iris Data Set')\n",
    "\n",
    "df = pd.read_csv(\"iris.data\",\n",
    "                names=['slen', 'swid', 'plen', 'pwid', 'class'])\n",
    "\n",
    "df.describe()"
   ]
  },
  {
   "cell_type": "code",
   "execution_count": 29,
   "metadata": {
    "collapsed": false
   },
   "outputs": [
    {
     "data": {
      "image/png": "[encoded data removed]",
      "text/plain": [
       "<matplotlib.figure.Figure at 0x2646cadf358>"
      ]
     },
     "metadata": {},
     "output_type": "display_data"
    }
   ],
   "source": [
    "df.boxplot()\n",
    "plt.show()"
   ]
  },
  {
   "cell_type": "code",
   "execution_count": null,
   "metadata": {
    "collapsed": true
   },
   "outputs": [],
   "source": [
    "\"\"\"\n",
    "Aqui podemos ver que la anchura de la cepa es la que muestra datos atipicos.\n",
    "\"\"\""
   ]
  },
  {
   "cell_type": "code",
   "execution_count": 26,
   "metadata": {
    "collapsed": false
   },
   "outputs": [
    {
     "data": {
      "image/png": "[encoded data removed]",
      "text/plain": [
       "<matplotlib.figure.Figure at 0x2646c9f9c88>"
      ]
     },
     "metadata": {},
     "output_type": "display_data"
    }
   ],
   "source": [
    "df.boxplot(column=\"swid\")\n",
    "plt.show()"
   ]
  },
  {
   "cell_type": "code",
   "execution_count": null,
   "metadata": {
    "collapsed": true
   },
   "outputs": [],
   "source": [
    "\"\"\"\n",
    "Podemos ver que tenemos 3 valores atipicos de un registro de 150 datos. Es decir, el 2% de los datos son valores atipicos.\n",
    "Quiza seria despreciable el numero de datos atipicos. Yo dejaria tal cual los datos pues la media esta en 3. Y si\n",
    "las plantas tienen en promedio una anchura de 3cm en el tronco, 3 casos excepcionales por encima de los 4 cm no suenan\n",
    "tan extraños.\n",
    "\"\"\""
   ]
  }
 ],
 "metadata": {
  "celltoolbar": "Raw Cell Format",
  "kernelspec": {
   "display_name": "Python [Root]",
   "language": "python",
   "name": "Python [Root]"
  },
  "language_info": {
   "codemirror_mode": {
    "name": "ipython",
    "version": 3
   },
   "file_extension": ".py",
   "mimetype": "text/x-python",
   "name": "python",
   "nbconvert_exporter": "python",
   "pygments_lexer": "ipython3",
   "version": "3.5.2"
  }
 },
 "nbformat": 4,
 "nbformat_minor": 0
}
